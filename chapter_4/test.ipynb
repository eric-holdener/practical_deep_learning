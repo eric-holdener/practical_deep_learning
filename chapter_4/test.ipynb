{
 "cells": [
  {
   "cell_type": "code",
   "execution_count": 118,
   "metadata": {},
   "outputs": [],
   "source": [
    "from fastai.vision.all import *\n",
    "from fastbook import *"
   ]
  },
  {
   "cell_type": "code",
   "execution_count": 119,
   "metadata": {},
   "outputs": [],
   "source": [
    "# Downlaod MNIST sample dataset\n",
    "# MNIST is a dataset of handwritten digits\n",
    "path = untar_data(URLs.MNIST_SAMPLE)\n",
    "Path.BASE_PATH = path"
   ]
  },
  {
   "cell_type": "code",
   "execution_count": 120,
   "metadata": {},
   "outputs": [
    {
     "data": {
      "text/plain": [
       "(#3) [Path('train'),Path('labels.csv'),Path('valid')]"
      ]
     },
     "execution_count": 120,
     "metadata": {},
     "output_type": "execute_result"
    }
   ],
   "source": [
    "# Check what is in the directory of path\n",
    "path.ls()"
   ]
  },
  {
   "cell_type": "code",
   "execution_count": 121,
   "metadata": {},
   "outputs": [
    {
     "data": {
      "text/plain": [
       "(#2) [Path('train/3'),Path('train/7')]"
      ]
     },
     "execution_count": 121,
     "metadata": {},
     "output_type": "execute_result"
    }
   ],
   "source": [
    "# Check train folder in path\n",
    "(path/'train').ls()"
   ]
  },
  {
   "cell_type": "code",
   "execution_count": 122,
   "metadata": {},
   "outputs": [
    {
     "data": {
      "text/plain": [
       "(#6131) [Path('train/3/10.png'),Path('train/3/10000.png'),Path('train/3/10011.png'),Path('train/3/10031.png'),Path('train/3/10034.png'),Path('train/3/10042.png'),Path('train/3/10052.png'),Path('train/3/1007.png'),Path('train/3/10074.png'),Path('train/3/10091.png')...]"
      ]
     },
     "execution_count": 122,
     "metadata": {},
     "output_type": "execute_result"
    }
   ],
   "source": [
    "# Assign path to threes and sevens training sets to variables, check what is inside threes folder\n",
    "threes = (path/'train'/'3').ls().sorted()\n",
    "sevens = (path/'train'/'7').ls().sorted()\n",
    "\n",
    "threes"
   ]
  },
  {
   "cell_type": "code",
   "execution_count": 123,
   "metadata": {},
   "outputs": [
    {
     "data": {
      "image/jpeg": "[encoded data removed]",
      "image/png": "[encoded data removed]",
      "text/plain": [
       "<PIL.PngImagePlugin.PngImageFile image mode=L size=28x28>"
      ]
     },
     "execution_count": 123,
     "metadata": {},
     "output_type": "execute_result"
    }
   ],
   "source": [
    "# Check an image in the threes folder\n",
    "im3_path = threes[1]\n",
    "im3 = Image.open(im3_path)\n",
    "im3"
   ]
  },
  {
   "cell_type": "code",
   "execution_count": 124,
   "metadata": {},
   "outputs": [
    {
     "data": {
      "text/plain": [
       "array([[  0,   0,   0,   0,   0,   0],\n",
       "       [  0,   0,   0,   0,   0,  29],\n",
       "       [  0,   0,   0,  48, 166, 224],\n",
       "       [  0,  93, 244, 249, 253, 187],\n",
       "       [  0, 107, 253, 253, 230,  48],\n",
       "       [  0,   3,  20,  20,  15,   0]], dtype=uint8)"
      ]
     },
     "execution_count": 124,
     "metadata": {},
     "output_type": "execute_result"
    }
   ],
   "source": [
    "# View a section of the numbers that make up the image\n",
    "array(im3)[4:10,4:10]"
   ]
  },
  {
   "cell_type": "code",
   "execution_count": 125,
   "metadata": {},
   "outputs": [
    {
     "data": {
      "text/html": [
       "<style type=\"text/css\">\n",
       "#T_64545_row0_col0, #T_64545_row0_col1, #T_64545_row0_col2, #T_64545_row0_col3, #T_64545_row0_col4, #T_64545_row0_col5, #T_64545_row0_col6, #T_64545_row0_col7, #T_64545_row0_col8, #T_64545_row0_col9, #T_64545_row0_col10, #T_64545_row0_col11, #T_64545_row0_col12, #T_64545_row0_col13, #T_64545_row0_col14, #T_64545_row0_col15, #T_64545_row0_col16, #T_64545_row0_col17, #T_64545_row1_col0, #T_64545_row1_col1, #T_64545_row1_col2, #T_64545_row1_col3, #T_64545_row1_col4, #T_64545_row1_col15, #T_64545_row1_col16, #T_64545_row1_col17, #T_64545_row2_col0, #T_64545_row2_col1, #T_64545_row2_col2, #T_64545_row2_col15, #T_64545_row2_col16, #T_64545_row2_col17, #T_64545_row3_col0, #T_64545_row3_col15, #T_64545_row3_col16, #T_64545_row3_col17, #T_64545_row4_col0, #T_64545_row4_col6, #T_64545_row4_col7, #T_64545_row4_col8, #T_64545_row4_col9, #T_64545_row4_col10, #T_64545_row4_col15, #T_64545_row4_col16, #T_64545_row4_col17, #T_64545_row5_col0, #T_64545_row5_col5, #T_64545_row5_col6, #T_64545_row5_col7, #T_64545_row5_col8, #T_64545_row5_col9, #T_64545_row5_col15, #T_64545_row5_col16, #T_64545_row5_col17, #T_64545_row6_col0, #T_64545_row6_col1, #T_64545_row6_col2, #T_64545_row6_col3, #T_64545_row6_col4, #T_64545_row6_col5, #T_64545_row6_col6, #T_64545_row6_col7, #T_64545_row6_col8, #T_64545_row6_col9, #T_64545_row6_col14, #T_64545_row6_col15, #T_64545_row6_col16, #T_64545_row6_col17, #T_64545_row7_col0, #T_64545_row7_col1, #T_64545_row7_col2, #T_64545_row7_col3, #T_64545_row7_col4, #T_64545_row7_col5, #T_64545_row7_col6, #T_64545_row7_col13, #T_64545_row7_col14, #T_64545_row7_col15, #T_64545_row7_col16, #T_64545_row7_col17, #T_64545_row8_col0, #T_64545_row8_col1, #T_64545_row8_col2, #T_64545_row8_col3, #T_64545_row8_col4, #T_64545_row8_col13, #T_64545_row8_col14, #T_64545_row8_col15, #T_64545_row8_col16, #T_64545_row8_col17, #T_64545_row9_col0, #T_64545_row9_col1, #T_64545_row9_col2, #T_64545_row9_col3, #T_64545_row9_col4, #T_64545_row9_col16, #T_64545_row9_col17, #T_64545_row10_col0, #T_64545_row10_col1, #T_64545_row10_col2, #T_64545_row10_col3, #T_64545_row10_col4, #T_64545_row10_col5, #T_64545_row10_col6, #T_64545_row10_col17 {\n",
       "  font-size: 6pt;\n",
       "  background-color: #ffffff;\n",
       "  color: #000000;\n",
       "}\n",
       "#T_64545_row1_col5 {\n",
       "  font-size: 6pt;\n",
       "  background-color: #efefef;\n",
       "  color: #000000;\n",
       "}\n",
       "#T_64545_row1_col6, #T_64545_row1_col13 {\n",
       "  font-size: 6pt;\n",
       "  background-color: #7c7c7c;\n",
       "  color: #f1f1f1;\n",
       "}\n",
       "#T_64545_row1_col7 {\n",
       "  font-size: 6pt;\n",
       "  background-color: #4a4a4a;\n",
       "  color: #f1f1f1;\n",
       "}\n",
       "#T_64545_row1_col8, #T_64545_row1_col9, #T_64545_row1_col10, #T_64545_row2_col5, #T_64545_row2_col6, #T_64545_row2_col7, #T_64545_row2_col11, #T_64545_row2_col12, #T_64545_row2_col13, #T_64545_row3_col4, #T_64545_row3_col12, #T_64545_row3_col13, #T_64545_row4_col1, #T_64545_row4_col2, #T_64545_row4_col3, #T_64545_row4_col12, #T_64545_row4_col13, #T_64545_row5_col12, #T_64545_row6_col11, #T_64545_row9_col11, #T_64545_row10_col11, #T_64545_row10_col12, #T_64545_row10_col13, #T_64545_row10_col14, #T_64545_row10_col15, #T_64545_row10_col16 {\n",
       "  font-size: 6pt;\n",
       "  background-color: #000000;\n",
       "  color: #f1f1f1;\n",
       "}\n",
       "#T_64545_row1_col11 {\n",
       "  font-size: 6pt;\n",
       "  background-color: #606060;\n",
       "  color: #f1f1f1;\n",
       "}\n",
       "#T_64545_row1_col12 {\n",
       "  font-size: 6pt;\n",
       "  background-color: #4d4d4d;\n",
       "  color: #f1f1f1;\n",
       "}\n",
       "#T_64545_row1_col14 {\n",
       "  font-size: 6pt;\n",
       "  background-color: #bbbbbb;\n",
       "  color: #000000;\n",
       "}\n",
       "#T_64545_row2_col3 {\n",
       "  font-size: 6pt;\n",
       "  background-color: #e4e4e4;\n",
       "  color: #000000;\n",
       "}\n",
       "#T_64545_row2_col4, #T_64545_row8_col6 {\n",
       "  font-size: 6pt;\n",
       "  background-color: #6b6b6b;\n",
       "  color: #f1f1f1;\n",
       "}\n",
       "#T_64545_row2_col8, #T_64545_row2_col14, #T_64545_row3_col14 {\n",
       "  font-size: 6pt;\n",
       "  background-color: #171717;\n",
       "  color: #f1f1f1;\n",
       "}\n",
       "#T_64545_row2_col9, #T_64545_row3_col11 {\n",
       "  font-size: 6pt;\n",
       "  background-color: #4b4b4b;\n",
       "  color: #f1f1f1;\n",
       "}\n",
       "#T_64545_row2_col10, #T_64545_row7_col10, #T_64545_row8_col8, #T_64545_row8_col10, #T_64545_row9_col8, #T_64545_row9_col10 {\n",
       "  font-size: 6pt;\n",
       "  background-color: #010101;\n",
       "  color: #f1f1f1;\n",
       "}\n",
       "#T_64545_row3_col1 {\n",
       "  font-size: 6pt;\n",
       "  background-color: #272727;\n",
       "  color: #f1f1f1;\n",
       "}\n",
       "#T_64545_row3_col2 {\n",
       "  font-size: 6pt;\n",
       "  background-color: #0a0a0a;\n",
       "  color: #f1f1f1;\n",
       "}\n",
       "#T_64545_row3_col3 {\n",
       "  font-size: 6pt;\n",
       "  background-color: #050505;\n",
       "  color: #f1f1f1;\n",
       "}\n",
       "#T_64545_row3_col5 {\n",
       "  font-size: 6pt;\n",
       "  background-color: #333333;\n",
       "  color: #f1f1f1;\n",
       "}\n",
       "#T_64545_row3_col6 {\n",
       "  font-size: 6pt;\n",
       "  background-color: #e6e6e6;\n",
       "  color: #000000;\n",
       "}\n",
       "#T_64545_row3_col7, #T_64545_row3_col10 {\n",
       "  font-size: 6pt;\n",
       "  background-color: #fafafa;\n",
       "  color: #000000;\n",
       "}\n",
       "#T_64545_row3_col8 {\n",
       "  font-size: 6pt;\n",
       "  background-color: #fbfbfb;\n",
       "  color: #000000;\n",
       "}\n",
       "#T_64545_row3_col9 {\n",
       "  font-size: 6pt;\n",
       "  background-color: #fdfdfd;\n",
       "  color: #000000;\n",
       "}\n",
       "#T_64545_row4_col4 {\n",
       "  font-size: 6pt;\n",
       "  background-color: #1b1b1b;\n",
       "  color: #f1f1f1;\n",
       "}\n",
       "#T_64545_row4_col5 {\n",
       "  font-size: 6pt;\n",
       "  background-color: #e0e0e0;\n",
       "  color: #000000;\n",
       "}\n",
       "#T_64545_row4_col11 {\n",
       "  font-size: 6pt;\n",
       "  background-color: #4e4e4e;\n",
       "  color: #f1f1f1;\n",
       "}\n",
       "#T_64545_row4_col14 {\n",
       "  font-size: 6pt;\n",
       "  background-color: #767676;\n",
       "  color: #f1f1f1;\n",
       "}\n",
       "#T_64545_row5_col1 {\n",
       "  font-size: 6pt;\n",
       "  background-color: #fcfcfc;\n",
       "  color: #000000;\n",
       "}\n",
       "#T_64545_row5_col2, #T_64545_row5_col3 {\n",
       "  font-size: 6pt;\n",
       "  background-color: #f6f6f6;\n",
       "  color: #000000;\n",
       "}\n",
       "#T_64545_row5_col4, #T_64545_row7_col7 {\n",
       "  font-size: 6pt;\n",
       "  background-color: #f8f8f8;\n",
       "  color: #000000;\n",
       "}\n",
       "#T_64545_row5_col10, #T_64545_row10_col7 {\n",
       "  font-size: 6pt;\n",
       "  background-color: #e8e8e8;\n",
       "  color: #000000;\n",
       "}\n",
       "#T_64545_row5_col11 {\n",
       "  font-size: 6pt;\n",
       "  background-color: #222222;\n",
       "  color: #f1f1f1;\n",
       "}\n",
       "#T_64545_row5_col13, #T_64545_row6_col12 {\n",
       "  font-size: 6pt;\n",
       "  background-color: #090909;\n",
       "  color: #f1f1f1;\n",
       "}\n",
       "#T_64545_row5_col14 {\n",
       "  font-size: 6pt;\n",
       "  background-color: #d0d0d0;\n",
       "  color: #000000;\n",
       "}\n",
       "#T_64545_row6_col10, #T_64545_row7_col11, #T_64545_row9_col6 {\n",
       "  font-size: 6pt;\n",
       "  background-color: #060606;\n",
       "  color: #f1f1f1;\n",
       "}\n",
       "#T_64545_row6_col13 {\n",
       "  font-size: 6pt;\n",
       "  background-color: #979797;\n",
       "  color: #f1f1f1;\n",
       "}\n",
       "#T_64545_row7_col8 {\n",
       "  font-size: 6pt;\n",
       "  background-color: #b6b6b6;\n",
       "  color: #000000;\n",
       "}\n",
       "#T_64545_row7_col9 {\n",
       "  font-size: 6pt;\n",
       "  background-color: #252525;\n",
       "  color: #f1f1f1;\n",
       "}\n",
       "#T_64545_row7_col12 {\n",
       "  font-size: 6pt;\n",
       "  background-color: #999999;\n",
       "  color: #f1f1f1;\n",
       "}\n",
       "#T_64545_row8_col5 {\n",
       "  font-size: 6pt;\n",
       "  background-color: #f9f9f9;\n",
       "  color: #000000;\n",
       "}\n",
       "#T_64545_row8_col7 {\n",
       "  font-size: 6pt;\n",
       "  background-color: #101010;\n",
       "  color: #f1f1f1;\n",
       "}\n",
       "#T_64545_row8_col9, #T_64545_row9_col9 {\n",
       "  font-size: 6pt;\n",
       "  background-color: #020202;\n",
       "  color: #f1f1f1;\n",
       "}\n",
       "#T_64545_row8_col11 {\n",
       "  font-size: 6pt;\n",
       "  background-color: #545454;\n",
       "  color: #f1f1f1;\n",
       "}\n",
       "#T_64545_row8_col12 {\n",
       "  font-size: 6pt;\n",
       "  background-color: #f1f1f1;\n",
       "  color: #000000;\n",
       "}\n",
       "#T_64545_row9_col5 {\n",
       "  font-size: 6pt;\n",
       "  background-color: #f7f7f7;\n",
       "  color: #000000;\n",
       "}\n",
       "#T_64545_row9_col7 {\n",
       "  font-size: 6pt;\n",
       "  background-color: #030303;\n",
       "  color: #f1f1f1;\n",
       "}\n",
       "#T_64545_row9_col12 {\n",
       "  font-size: 6pt;\n",
       "  background-color: #181818;\n",
       "  color: #f1f1f1;\n",
       "}\n",
       "#T_64545_row9_col13 {\n",
       "  font-size: 6pt;\n",
       "  background-color: #303030;\n",
       "  color: #f1f1f1;\n",
       "}\n",
       "#T_64545_row9_col14 {\n",
       "  font-size: 6pt;\n",
       "  background-color: #a9a9a9;\n",
       "  color: #f1f1f1;\n",
       "}\n",
       "#T_64545_row9_col15 {\n",
       "  font-size: 6pt;\n",
       "  background-color: #fefefe;\n",
       "  color: #000000;\n",
       "}\n",
       "#T_64545_row10_col8, #T_64545_row10_col9 {\n",
       "  font-size: 6pt;\n",
       "  background-color: #bababa;\n",
       "  color: #000000;\n",
       "}\n",
       "#T_64545_row10_col10 {\n",
       "  font-size: 6pt;\n",
       "  background-color: #393939;\n",
       "  color: #f1f1f1;\n",
       "}\n",
       "</style>\n",
       "<table id=\"T_64545\">\n",
       "  <thead>\n",
       "    <tr>\n",
       "      <th class=\"blank level0\" >&nbsp;</th>\n",
       "      <th id=\"T_64545_level0_col0\" class=\"col_heading level0 col0\" >0</th>\n",
       "      <th id=\"T_64545_level0_col1\" class=\"col_heading level0 col1\" >1</th>\n",
       "      <th id=\"T_64545_level0_col2\" class=\"col_heading level0 col2\" >2</th>\n",
       "      <th id=\"T_64545_level0_col3\" class=\"col_heading level0 col3\" >3</th>\n",
       "      <th id=\"T_64545_level0_col4\" class=\"col_heading level0 col4\" >4</th>\n",
       "      <th id=\"T_64545_level0_col5\" class=\"col_heading level0 col5\" >5</th>\n",
       "      <th id=\"T_64545_level0_col6\" class=\"col_heading level0 col6\" >6</th>\n",
       "      <th id=\"T_64545_level0_col7\" class=\"col_heading level0 col7\" >7</th>\n",
       "      <th id=\"T_64545_level0_col8\" class=\"col_heading level0 col8\" >8</th>\n",
       "      <th id=\"T_64545_level0_col9\" class=\"col_heading level0 col9\" >9</th>\n",
       "      <th id=\"T_64545_level0_col10\" class=\"col_heading level0 col10\" >10</th>\n",
       "      <th id=\"T_64545_level0_col11\" class=\"col_heading level0 col11\" >11</th>\n",
       "      <th id=\"T_64545_level0_col12\" class=\"col_heading level0 col12\" >12</th>\n",
       "      <th id=\"T_64545_level0_col13\" class=\"col_heading level0 col13\" >13</th>\n",
       "      <th id=\"T_64545_level0_col14\" class=\"col_heading level0 col14\" >14</th>\n",
       "      <th id=\"T_64545_level0_col15\" class=\"col_heading level0 col15\" >15</th>\n",
       "      <th id=\"T_64545_level0_col16\" class=\"col_heading level0 col16\" >16</th>\n",
       "      <th id=\"T_64545_level0_col17\" class=\"col_heading level0 col17\" >17</th>\n",
       "    </tr>\n",
       "  </thead>\n",
       "  <tbody>\n",
       "    <tr>\n",
       "      <th id=\"T_64545_level0_row0\" class=\"row_heading level0 row0\" >0</th>\n",
       "      <td id=\"T_64545_row0_col0\" class=\"data row0 col0\" >0</td>\n",
       "      <td id=\"T_64545_row0_col1\" class=\"data row0 col1\" >0</td>\n",
       "      <td id=\"T_64545_row0_col2\" class=\"data row0 col2\" >0</td>\n",
       "      <td id=\"T_64545_row0_col3\" class=\"data row0 col3\" >0</td>\n",
       "      <td id=\"T_64545_row0_col4\" class=\"data row0 col4\" >0</td>\n",
       "      <td id=\"T_64545_row0_col5\" class=\"data row0 col5\" >0</td>\n",
       "      <td id=\"T_64545_row0_col6\" class=\"data row0 col6\" >0</td>\n",
       "      <td id=\"T_64545_row0_col7\" class=\"data row0 col7\" >0</td>\n",
       "      <td id=\"T_64545_row0_col8\" class=\"data row0 col8\" >0</td>\n",
       "      <td id=\"T_64545_row0_col9\" class=\"data row0 col9\" >0</td>\n",
       "      <td id=\"T_64545_row0_col10\" class=\"data row0 col10\" >0</td>\n",
       "      <td id=\"T_64545_row0_col11\" class=\"data row0 col11\" >0</td>\n",
       "      <td id=\"T_64545_row0_col12\" class=\"data row0 col12\" >0</td>\n",
       "      <td id=\"T_64545_row0_col13\" class=\"data row0 col13\" >0</td>\n",
       "      <td id=\"T_64545_row0_col14\" class=\"data row0 col14\" >0</td>\n",
       "      <td id=\"T_64545_row0_col15\" class=\"data row0 col15\" >0</td>\n",
       "      <td id=\"T_64545_row0_col16\" class=\"data row0 col16\" >0</td>\n",
       "      <td id=\"T_64545_row0_col17\" class=\"data row0 col17\" >0</td>\n",
       "    </tr>\n",
       "    <tr>\n",
       "      <th id=\"T_64545_level0_row1\" class=\"row_heading level0 row1\" >1</th>\n",
       "      <td id=\"T_64545_row1_col0\" class=\"data row1 col0\" >0</td>\n",
       "      <td id=\"T_64545_row1_col1\" class=\"data row1 col1\" >0</td>\n",
       "      <td id=\"T_64545_row1_col2\" class=\"data row1 col2\" >0</td>\n",
       "      <td id=\"T_64545_row1_col3\" class=\"data row1 col3\" >0</td>\n",
       "      <td id=\"T_64545_row1_col4\" class=\"data row1 col4\" >0</td>\n",
       "      <td id=\"T_64545_row1_col5\" class=\"data row1 col5\" >29</td>\n",
       "      <td id=\"T_64545_row1_col6\" class=\"data row1 col6\" >150</td>\n",
       "      <td id=\"T_64545_row1_col7\" class=\"data row1 col7\" >195</td>\n",
       "      <td id=\"T_64545_row1_col8\" class=\"data row1 col8\" >254</td>\n",
       "      <td id=\"T_64545_row1_col9\" class=\"data row1 col9\" >255</td>\n",
       "      <td id=\"T_64545_row1_col10\" class=\"data row1 col10\" >254</td>\n",
       "      <td id=\"T_64545_row1_col11\" class=\"data row1 col11\" >176</td>\n",
       "      <td id=\"T_64545_row1_col12\" class=\"data row1 col12\" >193</td>\n",
       "      <td id=\"T_64545_row1_col13\" class=\"data row1 col13\" >150</td>\n",
       "      <td id=\"T_64545_row1_col14\" class=\"data row1 col14\" >96</td>\n",
       "      <td id=\"T_64545_row1_col15\" class=\"data row1 col15\" >0</td>\n",
       "      <td id=\"T_64545_row1_col16\" class=\"data row1 col16\" >0</td>\n",
       "      <td id=\"T_64545_row1_col17\" class=\"data row1 col17\" >0</td>\n",
       "    </tr>\n",
       "    <tr>\n",
       "      <th id=\"T_64545_level0_row2\" class=\"row_heading level0 row2\" >2</th>\n",
       "      <td id=\"T_64545_row2_col0\" class=\"data row2 col0\" >0</td>\n",
       "      <td id=\"T_64545_row2_col1\" class=\"data row2 col1\" >0</td>\n",
       "      <td id=\"T_64545_row2_col2\" class=\"data row2 col2\" >0</td>\n",
       "      <td id=\"T_64545_row2_col3\" class=\"data row2 col3\" >48</td>\n",
       "      <td id=\"T_64545_row2_col4\" class=\"data row2 col4\" >166</td>\n",
       "      <td id=\"T_64545_row2_col5\" class=\"data row2 col5\" >224</td>\n",
       "      <td id=\"T_64545_row2_col6\" class=\"data row2 col6\" >253</td>\n",
       "      <td id=\"T_64545_row2_col7\" class=\"data row2 col7\" >253</td>\n",
       "      <td id=\"T_64545_row2_col8\" class=\"data row2 col8\" >234</td>\n",
       "      <td id=\"T_64545_row2_col9\" class=\"data row2 col9\" >196</td>\n",
       "      <td id=\"T_64545_row2_col10\" class=\"data row2 col10\" >253</td>\n",
       "      <td id=\"T_64545_row2_col11\" class=\"data row2 col11\" >253</td>\n",
       "      <td id=\"T_64545_row2_col12\" class=\"data row2 col12\" >253</td>\n",
       "      <td id=\"T_64545_row2_col13\" class=\"data row2 col13\" >253</td>\n",
       "      <td id=\"T_64545_row2_col14\" class=\"data row2 col14\" >233</td>\n",
       "      <td id=\"T_64545_row2_col15\" class=\"data row2 col15\" >0</td>\n",
       "      <td id=\"T_64545_row2_col16\" class=\"data row2 col16\" >0</td>\n",
       "      <td id=\"T_64545_row2_col17\" class=\"data row2 col17\" >0</td>\n",
       "    </tr>\n",
       "    <tr>\n",
       "      <th id=\"T_64545_level0_row3\" class=\"row_heading level0 row3\" >3</th>\n",
       "      <td id=\"T_64545_row3_col0\" class=\"data row3 col0\" >0</td>\n",
       "      <td id=\"T_64545_row3_col1\" class=\"data row3 col1\" >93</td>\n",
       "      <td id=\"T_64545_row3_col2\" class=\"data row3 col2\" >244</td>\n",
       "      <td id=\"T_64545_row3_col3\" class=\"data row3 col3\" >249</td>\n",
       "      <td id=\"T_64545_row3_col4\" class=\"data row3 col4\" >253</td>\n",
       "      <td id=\"T_64545_row3_col5\" class=\"data row3 col5\" >187</td>\n",
       "      <td id=\"T_64545_row3_col6\" class=\"data row3 col6\" >46</td>\n",
       "      <td id=\"T_64545_row3_col7\" class=\"data row3 col7\" >10</td>\n",
       "      <td id=\"T_64545_row3_col8\" class=\"data row3 col8\" >8</td>\n",
       "      <td id=\"T_64545_row3_col9\" class=\"data row3 col9\" >4</td>\n",
       "      <td id=\"T_64545_row3_col10\" class=\"data row3 col10\" >10</td>\n",
       "      <td id=\"T_64545_row3_col11\" class=\"data row3 col11\" >194</td>\n",
       "      <td id=\"T_64545_row3_col12\" class=\"data row3 col12\" >253</td>\n",
       "      <td id=\"T_64545_row3_col13\" class=\"data row3 col13\" >253</td>\n",
       "      <td id=\"T_64545_row3_col14\" class=\"data row3 col14\" >233</td>\n",
       "      <td id=\"T_64545_row3_col15\" class=\"data row3 col15\" >0</td>\n",
       "      <td id=\"T_64545_row3_col16\" class=\"data row3 col16\" >0</td>\n",
       "      <td id=\"T_64545_row3_col17\" class=\"data row3 col17\" >0</td>\n",
       "    </tr>\n",
       "    <tr>\n",
       "      <th id=\"T_64545_level0_row4\" class=\"row_heading level0 row4\" >4</th>\n",
       "      <td id=\"T_64545_row4_col0\" class=\"data row4 col0\" >0</td>\n",
       "      <td id=\"T_64545_row4_col1\" class=\"data row4 col1\" >107</td>\n",
       "      <td id=\"T_64545_row4_col2\" class=\"data row4 col2\" >253</td>\n",
       "      <td id=\"T_64545_row4_col3\" class=\"data row4 col3\" >253</td>\n",
       "      <td id=\"T_64545_row4_col4\" class=\"data row4 col4\" >230</td>\n",
       "      <td id=\"T_64545_row4_col5\" class=\"data row4 col5\" >48</td>\n",
       "      <td id=\"T_64545_row4_col6\" class=\"data row4 col6\" >0</td>\n",
       "      <td id=\"T_64545_row4_col7\" class=\"data row4 col7\" >0</td>\n",
       "      <td id=\"T_64545_row4_col8\" class=\"data row4 col8\" >0</td>\n",
       "      <td id=\"T_64545_row4_col9\" class=\"data row4 col9\" >0</td>\n",
       "      <td id=\"T_64545_row4_col10\" class=\"data row4 col10\" >0</td>\n",
       "      <td id=\"T_64545_row4_col11\" class=\"data row4 col11\" >192</td>\n",
       "      <td id=\"T_64545_row4_col12\" class=\"data row4 col12\" >253</td>\n",
       "      <td id=\"T_64545_row4_col13\" class=\"data row4 col13\" >253</td>\n",
       "      <td id=\"T_64545_row4_col14\" class=\"data row4 col14\" >156</td>\n",
       "      <td id=\"T_64545_row4_col15\" class=\"data row4 col15\" >0</td>\n",
       "      <td id=\"T_64545_row4_col16\" class=\"data row4 col16\" >0</td>\n",
       "      <td id=\"T_64545_row4_col17\" class=\"data row4 col17\" >0</td>\n",
       "    </tr>\n",
       "    <tr>\n",
       "      <th id=\"T_64545_level0_row5\" class=\"row_heading level0 row5\" >5</th>\n",
       "      <td id=\"T_64545_row5_col0\" class=\"data row5 col0\" >0</td>\n",
       "      <td id=\"T_64545_row5_col1\" class=\"data row5 col1\" >3</td>\n",
       "      <td id=\"T_64545_row5_col2\" class=\"data row5 col2\" >20</td>\n",
       "      <td id=\"T_64545_row5_col3\" class=\"data row5 col3\" >20</td>\n",
       "      <td id=\"T_64545_row5_col4\" class=\"data row5 col4\" >15</td>\n",
       "      <td id=\"T_64545_row5_col5\" class=\"data row5 col5\" >0</td>\n",
       "      <td id=\"T_64545_row5_col6\" class=\"data row5 col6\" >0</td>\n",
       "      <td id=\"T_64545_row5_col7\" class=\"data row5 col7\" >0</td>\n",
       "      <td id=\"T_64545_row5_col8\" class=\"data row5 col8\" >0</td>\n",
       "      <td id=\"T_64545_row5_col9\" class=\"data row5 col9\" >0</td>\n",
       "      <td id=\"T_64545_row5_col10\" class=\"data row5 col10\" >43</td>\n",
       "      <td id=\"T_64545_row5_col11\" class=\"data row5 col11\" >224</td>\n",
       "      <td id=\"T_64545_row5_col12\" class=\"data row5 col12\" >253</td>\n",
       "      <td id=\"T_64545_row5_col13\" class=\"data row5 col13\" >245</td>\n",
       "      <td id=\"T_64545_row5_col14\" class=\"data row5 col14\" >74</td>\n",
       "      <td id=\"T_64545_row5_col15\" class=\"data row5 col15\" >0</td>\n",
       "      <td id=\"T_64545_row5_col16\" class=\"data row5 col16\" >0</td>\n",
       "      <td id=\"T_64545_row5_col17\" class=\"data row5 col17\" >0</td>\n",
       "    </tr>\n",
       "    <tr>\n",
       "      <th id=\"T_64545_level0_row6\" class=\"row_heading level0 row6\" >6</th>\n",
       "      <td id=\"T_64545_row6_col0\" class=\"data row6 col0\" >0</td>\n",
       "      <td id=\"T_64545_row6_col1\" class=\"data row6 col1\" >0</td>\n",
       "      <td id=\"T_64545_row6_col2\" class=\"data row6 col2\" >0</td>\n",
       "      <td id=\"T_64545_row6_col3\" class=\"data row6 col3\" >0</td>\n",
       "      <td id=\"T_64545_row6_col4\" class=\"data row6 col4\" >0</td>\n",
       "      <td id=\"T_64545_row6_col5\" class=\"data row6 col5\" >0</td>\n",
       "      <td id=\"T_64545_row6_col6\" class=\"data row6 col6\" >0</td>\n",
       "      <td id=\"T_64545_row6_col7\" class=\"data row6 col7\" >0</td>\n",
       "      <td id=\"T_64545_row6_col8\" class=\"data row6 col8\" >0</td>\n",
       "      <td id=\"T_64545_row6_col9\" class=\"data row6 col9\" >0</td>\n",
       "      <td id=\"T_64545_row6_col10\" class=\"data row6 col10\" >249</td>\n",
       "      <td id=\"T_64545_row6_col11\" class=\"data row6 col11\" >253</td>\n",
       "      <td id=\"T_64545_row6_col12\" class=\"data row6 col12\" >245</td>\n",
       "      <td id=\"T_64545_row6_col13\" class=\"data row6 col13\" >126</td>\n",
       "      <td id=\"T_64545_row6_col14\" class=\"data row6 col14\" >0</td>\n",
       "      <td id=\"T_64545_row6_col15\" class=\"data row6 col15\" >0</td>\n",
       "      <td id=\"T_64545_row6_col16\" class=\"data row6 col16\" >0</td>\n",
       "      <td id=\"T_64545_row6_col17\" class=\"data row6 col17\" >0</td>\n",
       "    </tr>\n",
       "    <tr>\n",
       "      <th id=\"T_64545_level0_row7\" class=\"row_heading level0 row7\" >7</th>\n",
       "      <td id=\"T_64545_row7_col0\" class=\"data row7 col0\" >0</td>\n",
       "      <td id=\"T_64545_row7_col1\" class=\"data row7 col1\" >0</td>\n",
       "      <td id=\"T_64545_row7_col2\" class=\"data row7 col2\" >0</td>\n",
       "      <td id=\"T_64545_row7_col3\" class=\"data row7 col3\" >0</td>\n",
       "      <td id=\"T_64545_row7_col4\" class=\"data row7 col4\" >0</td>\n",
       "      <td id=\"T_64545_row7_col5\" class=\"data row7 col5\" >0</td>\n",
       "      <td id=\"T_64545_row7_col6\" class=\"data row7 col6\" >0</td>\n",
       "      <td id=\"T_64545_row7_col7\" class=\"data row7 col7\" >14</td>\n",
       "      <td id=\"T_64545_row7_col8\" class=\"data row7 col8\" >101</td>\n",
       "      <td id=\"T_64545_row7_col9\" class=\"data row7 col9\" >223</td>\n",
       "      <td id=\"T_64545_row7_col10\" class=\"data row7 col10\" >253</td>\n",
       "      <td id=\"T_64545_row7_col11\" class=\"data row7 col11\" >248</td>\n",
       "      <td id=\"T_64545_row7_col12\" class=\"data row7 col12\" >124</td>\n",
       "      <td id=\"T_64545_row7_col13\" class=\"data row7 col13\" >0</td>\n",
       "      <td id=\"T_64545_row7_col14\" class=\"data row7 col14\" >0</td>\n",
       "      <td id=\"T_64545_row7_col15\" class=\"data row7 col15\" >0</td>\n",
       "      <td id=\"T_64545_row7_col16\" class=\"data row7 col16\" >0</td>\n",
       "      <td id=\"T_64545_row7_col17\" class=\"data row7 col17\" >0</td>\n",
       "    </tr>\n",
       "    <tr>\n",
       "      <th id=\"T_64545_level0_row8\" class=\"row_heading level0 row8\" >8</th>\n",
       "      <td id=\"T_64545_row8_col0\" class=\"data row8 col0\" >0</td>\n",
       "      <td id=\"T_64545_row8_col1\" class=\"data row8 col1\" >0</td>\n",
       "      <td id=\"T_64545_row8_col2\" class=\"data row8 col2\" >0</td>\n",
       "      <td id=\"T_64545_row8_col3\" class=\"data row8 col3\" >0</td>\n",
       "      <td id=\"T_64545_row8_col4\" class=\"data row8 col4\" >0</td>\n",
       "      <td id=\"T_64545_row8_col5\" class=\"data row8 col5\" >11</td>\n",
       "      <td id=\"T_64545_row8_col6\" class=\"data row8 col6\" >166</td>\n",
       "      <td id=\"T_64545_row8_col7\" class=\"data row8 col7\" >239</td>\n",
       "      <td id=\"T_64545_row8_col8\" class=\"data row8 col8\" >253</td>\n",
       "      <td id=\"T_64545_row8_col9\" class=\"data row8 col9\" >253</td>\n",
       "      <td id=\"T_64545_row8_col10\" class=\"data row8 col10\" >253</td>\n",
       "      <td id=\"T_64545_row8_col11\" class=\"data row8 col11\" >187</td>\n",
       "      <td id=\"T_64545_row8_col12\" class=\"data row8 col12\" >30</td>\n",
       "      <td id=\"T_64545_row8_col13\" class=\"data row8 col13\" >0</td>\n",
       "      <td id=\"T_64545_row8_col14\" class=\"data row8 col14\" >0</td>\n",
       "      <td id=\"T_64545_row8_col15\" class=\"data row8 col15\" >0</td>\n",
       "      <td id=\"T_64545_row8_col16\" class=\"data row8 col16\" >0</td>\n",
       "      <td id=\"T_64545_row8_col17\" class=\"data row8 col17\" >0</td>\n",
       "    </tr>\n",
       "    <tr>\n",
       "      <th id=\"T_64545_level0_row9\" class=\"row_heading level0 row9\" >9</th>\n",
       "      <td id=\"T_64545_row9_col0\" class=\"data row9 col0\" >0</td>\n",
       "      <td id=\"T_64545_row9_col1\" class=\"data row9 col1\" >0</td>\n",
       "      <td id=\"T_64545_row9_col2\" class=\"data row9 col2\" >0</td>\n",
       "      <td id=\"T_64545_row9_col3\" class=\"data row9 col3\" >0</td>\n",
       "      <td id=\"T_64545_row9_col4\" class=\"data row9 col4\" >0</td>\n",
       "      <td id=\"T_64545_row9_col5\" class=\"data row9 col5\" >16</td>\n",
       "      <td id=\"T_64545_row9_col6\" class=\"data row9 col6\" >248</td>\n",
       "      <td id=\"T_64545_row9_col7\" class=\"data row9 col7\" >250</td>\n",
       "      <td id=\"T_64545_row9_col8\" class=\"data row9 col8\" >253</td>\n",
       "      <td id=\"T_64545_row9_col9\" class=\"data row9 col9\" >253</td>\n",
       "      <td id=\"T_64545_row9_col10\" class=\"data row9 col10\" >253</td>\n",
       "      <td id=\"T_64545_row9_col11\" class=\"data row9 col11\" >253</td>\n",
       "      <td id=\"T_64545_row9_col12\" class=\"data row9 col12\" >232</td>\n",
       "      <td id=\"T_64545_row9_col13\" class=\"data row9 col13\" >213</td>\n",
       "      <td id=\"T_64545_row9_col14\" class=\"data row9 col14\" >111</td>\n",
       "      <td id=\"T_64545_row9_col15\" class=\"data row9 col15\" >2</td>\n",
       "      <td id=\"T_64545_row9_col16\" class=\"data row9 col16\" >0</td>\n",
       "      <td id=\"T_64545_row9_col17\" class=\"data row9 col17\" >0</td>\n",
       "    </tr>\n",
       "    <tr>\n",
       "      <th id=\"T_64545_level0_row10\" class=\"row_heading level0 row10\" >10</th>\n",
       "      <td id=\"T_64545_row10_col0\" class=\"data row10 col0\" >0</td>\n",
       "      <td id=\"T_64545_row10_col1\" class=\"data row10 col1\" >0</td>\n",
       "      <td id=\"T_64545_row10_col2\" class=\"data row10 col2\" >0</td>\n",
       "      <td id=\"T_64545_row10_col3\" class=\"data row10 col3\" >0</td>\n",
       "      <td id=\"T_64545_row10_col4\" class=\"data row10 col4\" >0</td>\n",
       "      <td id=\"T_64545_row10_col5\" class=\"data row10 col5\" >0</td>\n",
       "      <td id=\"T_64545_row10_col6\" class=\"data row10 col6\" >0</td>\n",
       "      <td id=\"T_64545_row10_col7\" class=\"data row10 col7\" >43</td>\n",
       "      <td id=\"T_64545_row10_col8\" class=\"data row10 col8\" >98</td>\n",
       "      <td id=\"T_64545_row10_col9\" class=\"data row10 col9\" >98</td>\n",
       "      <td id=\"T_64545_row10_col10\" class=\"data row10 col10\" >208</td>\n",
       "      <td id=\"T_64545_row10_col11\" class=\"data row10 col11\" >253</td>\n",
       "      <td id=\"T_64545_row10_col12\" class=\"data row10 col12\" >253</td>\n",
       "      <td id=\"T_64545_row10_col13\" class=\"data row10 col13\" >253</td>\n",
       "      <td id=\"T_64545_row10_col14\" class=\"data row10 col14\" >253</td>\n",
       "      <td id=\"T_64545_row10_col15\" class=\"data row10 col15\" >187</td>\n",
       "      <td id=\"T_64545_row10_col16\" class=\"data row10 col16\" >22</td>\n",
       "      <td id=\"T_64545_row10_col17\" class=\"data row10 col17\" >0</td>\n",
       "    </tr>\n",
       "  </tbody>\n",
       "</table>\n"
      ],
      "text/plain": [
       "<pandas.io.formats.style.Styler at 0x7f6b87fa77f0>"
      ]
     },
     "execution_count": 125,
     "metadata": {},
     "output_type": "execute_result"
    }
   ],
   "source": [
    "# Slice the array to pick the part with the top of the digit\n",
    "# Use a pandas DF to color code values using a gradient\n",
    "# Showing how image is created using pixel values\n",
    "im3_t = tensor(im3)\n",
    "df = pd.DataFrame(im3_t[4:15,4:22])\n",
    "df.style.set_properties(**{'font-size':'6pt'}).background_gradient('Greys')"
   ]
  },
  {
   "cell_type": "code",
   "execution_count": 126,
   "metadata": {},
   "outputs": [
    {
     "data": {
      "text/plain": [
       "(6131, 6265)"
      ]
     },
     "execution_count": 126,
     "metadata": {},
     "output_type": "execute_result"
    }
   ],
   "source": [
    "# Idea 1 to classifying 3 vs 7 - pixel similarity\n",
    "# Find the average pixel value for every pixel of the 3s and 7s. which will give us an \"ideal\" pixel value for a 3 and 7\n",
    "# To classify, find which of the ideal digits the image is most similar to\n",
    "\n",
    "# Create a tensor to stack all three and seven images together\n",
    "seven_tensors = [tensor(Image.open(o))for o in sevens]\n",
    "three_tensors = [tensor(Image.open(o)) for o in threes]\n",
    "\n",
    "len(three_tensors),len(seven_tensors)"
   ]
  },
  {
   "cell_type": "code",
   "execution_count": 127,
   "metadata": {},
   "outputs": [
    {
     "data": {
      "text/plain": [
       "<Axes: >"
      ]
     },
     "execution_count": 127,
     "metadata": {},
     "output_type": "execute_result"
    },
    {
     "data": {
      "image/png": "[encoded data removed]",
      "text/plain": [
       "<Figure size 100x100 with 1 Axes>"
      ]
     },
     "metadata": {},
     "output_type": "display_data"
    }
   ],
   "source": [
    "# Check that an image looks ok with a tensor\n",
    "show_image(three_tensors[1])"
   ]
  },
  {
   "cell_type": "code",
   "execution_count": 128,
   "metadata": {},
   "outputs": [
    {
     "data": {
      "text/plain": [
       "torch.Size([6131, 28, 28])"
      ]
     },
     "execution_count": 128,
     "metadata": {},
     "output_type": "execute_result"
    }
   ],
   "source": [
    "# Combine all images in the list into a single three dimensional tensor\n",
    "# Pytorch stack function will combine all images in the list\n",
    "# Some Pytorch functions require an integer being cast as float type, so we do it ahead of time\n",
    "# When images are floats, pixel values are between 0 and 1 - divide by 255 here (pixel value between 0 and 255)\n",
    "stacked_sevens = torch.stack(seven_tensors).float()/255\n",
    "stacked_threes = torch.stack(three_tensors).float()/255\n",
    "\n",
    "stacked_threes.shape"
   ]
  },
  {
   "cell_type": "code",
   "execution_count": 129,
   "metadata": {},
   "outputs": [
    {
     "data": {
      "text/plain": [
       "3"
      ]
     },
     "execution_count": 129,
     "metadata": {},
     "output_type": "execute_result"
    }
   ],
   "source": [
    "# A tensors rank is the length of its shape\n",
    "len(stacked_threes.shape)"
   ]
  },
  {
   "cell_type": "code",
   "execution_count": 130,
   "metadata": {},
   "outputs": [
    {
     "data": {
      "text/plain": [
       "3"
      ]
     },
     "execution_count": 130,
     "metadata": {},
     "output_type": "execute_result"
    }
   ],
   "source": [
    "# Another way to get a tensors rank\n",
    "stacked_threes.ndim"
   ]
  },
  {
   "cell_type": "code",
   "execution_count": 131,
   "metadata": {},
   "outputs": [
    {
     "data": {
      "text/plain": [
       "<Axes: >"
      ]
     },
     "execution_count": 131,
     "metadata": {},
     "output_type": "execute_result"
    },
    {
     "data": {
      "image/png": "[encoded data removed]",
      "text/plain": [
       "<Figure size 100x100 with 1 Axes>"
      ]
     },
     "metadata": {},
     "output_type": "display_data"
    }
   ],
   "source": [
    "# Compute what ideal 3 looks like\n",
    "# Take the average along dimension 0 (images) of the stacked tensor\n",
    "# For every pixel position, this computes the average of that pixel over all images. One value for every pixel position is created, making a single image\n",
    "\n",
    "mean_3 = stacked_threes.mean(0)\n",
    "show_image(mean_3)"
   ]
  },
  {
   "cell_type": "code",
   "execution_count": 132,
   "metadata": {},
   "outputs": [
    {
     "data": {
      "text/plain": [
       "<Axes: >"
      ]
     },
     "execution_count": 132,
     "metadata": {},
     "output_type": "execute_result"
    },
    {
     "data": {
      "image/png": "[encoded data removed]",
      "text/plain": [
       "<Figure size 100x100 with 1 Axes>"
      ]
     },
     "metadata": {},
     "output_type": "display_data"
    }
   ],
   "source": [
    "# do the same for 7\n",
    "mean_7 = stacked_sevens.mean(0)\n",
    "show_image(mean_7)"
   ]
  },
  {
   "cell_type": "code",
   "execution_count": 133,
   "metadata": {},
   "outputs": [
    {
     "data": {
      "text/plain": [
       "<Axes: >"
      ]
     },
     "execution_count": 133,
     "metadata": {},
     "output_type": "execute_result"
    },
    {
     "data": {
      "image/png": "[encoded data removed]",
      "text/plain": [
       "<Figure size 100x100 with 1 Axes>"
      ]
     },
     "metadata": {},
     "output_type": "display_data"
    }
   ],
   "source": [
    "# Take a sample three\n",
    "a_3 = stacked_threes[1]\n",
    "show_image(a_3)"
   ]
  },
  {
   "cell_type": "code",
   "execution_count": 134,
   "metadata": {},
   "outputs": [
    {
     "data": {
      "text/plain": [
       "(tensor(0.1114), tensor(0.2021))"
      ]
     },
     "execution_count": 134,
     "metadata": {},
     "output_type": "execute_result"
    }
   ],
   "source": [
    "# Calculate how far from an ideal 3 it is\n",
    "# L1 Norm\n",
    "dist_3_abs = (a_3 - mean_3).abs().mean()\n",
    "# RMSE\n",
    "dist_3_sqr = ((a_3 - mean_3)**2).mean().sqrt()\n",
    "dist_3_abs,dist_3_sqr"
   ]
  },
  {
   "cell_type": "code",
   "execution_count": 135,
   "metadata": {},
   "outputs": [
    {
     "data": {
      "text/plain": [
       "(tensor(0.1586), tensor(0.3021))"
      ]
     },
     "execution_count": 135,
     "metadata": {},
     "output_type": "execute_result"
    }
   ],
   "source": [
    "# Calculate how far from an ideal 7 it is\n",
    "# L1 Norm\n",
    "dist_7_abs = (a_3 - mean_7).abs().mean()\n",
    "# RMSE\n",
    "dist_7_sqr = ((a_3 - mean_7)**2).mean().sqrt()\n",
    "dist_7_abs,dist_7_sqr"
   ]
  },
  {
   "cell_type": "code",
   "execution_count": 136,
   "metadata": {},
   "outputs": [
    {
     "data": {
      "text/plain": [
       "(tensor(0.1586), tensor(0.3021))"
      ]
     },
     "execution_count": 136,
     "metadata": {},
     "output_type": "execute_result"
    }
   ],
   "source": [
    "# Pytorch provides L1 Norm and RMSE as default loss functions\n",
    "F.l1_loss(a_3.float(),mean_7), F.mse_loss(a_3,mean_7).sqrt()"
   ]
  },
  {
   "cell_type": "code",
   "execution_count": 137,
   "metadata": {},
   "outputs": [],
   "source": [
    "# Creating an array or tensor ex\n",
    "data = [[1,2,3], [4,5,6]]\n",
    "arr = array (data)\n",
    "tns = tensor(data)"
   ]
  },
  {
   "cell_type": "code",
   "execution_count": 138,
   "metadata": {},
   "outputs": [
    {
     "data": {
      "text/plain": [
       "array([[1, 2, 3],\n",
       "       [4, 5, 6]])"
      ]
     },
     "execution_count": 138,
     "metadata": {},
     "output_type": "execute_result"
    }
   ],
   "source": [
    "# Numpy array\n",
    "arr"
   ]
  },
  {
   "cell_type": "code",
   "execution_count": 139,
   "metadata": {},
   "outputs": [
    {
     "data": {
      "text/plain": [
       "tensor([[1, 2, 3],\n",
       "        [4, 5, 6]])"
      ]
     },
     "execution_count": 139,
     "metadata": {},
     "output_type": "execute_result"
    }
   ],
   "source": [
    "# Pytorch tensor\n",
    "tns"
   ]
  },
  {
   "cell_type": "code",
   "execution_count": 140,
   "metadata": {},
   "outputs": [
    {
     "data": {
      "text/plain": [
       "tensor([4, 5, 6])"
      ]
     },
     "execution_count": 140,
     "metadata": {},
     "output_type": "execute_result"
    }
   ],
   "source": [
    "# Examples of things you can do on an array / tensor\n",
    "# select a row\n",
    "tns[1]"
   ]
  },
  {
   "cell_type": "code",
   "execution_count": 141,
   "metadata": {},
   "outputs": [
    {
     "data": {
      "text/plain": [
       "tensor([2, 5])"
      ]
     },
     "execution_count": 141,
     "metadata": {},
     "output_type": "execute_result"
    }
   ],
   "source": [
    "# select a column\n",
    "tns[:,1]\n"
   ]
  },
  {
   "cell_type": "code",
   "execution_count": 142,
   "metadata": {},
   "outputs": [
    {
     "data": {
      "text/plain": [
       "tensor([5, 6])"
      ]
     },
     "execution_count": 142,
     "metadata": {},
     "output_type": "execute_result"
    }
   ],
   "source": [
    "# combine with python slice syntax to select part of row or column\n",
    "tns[1,1:3]"
   ]
  },
  {
   "cell_type": "code",
   "execution_count": 143,
   "metadata": {},
   "outputs": [
    {
     "data": {
      "text/plain": [
       "tensor([[2, 3, 4],\n",
       "        [5, 6, 7]])"
      ]
     },
     "execution_count": 143,
     "metadata": {},
     "output_type": "execute_result"
    }
   ],
   "source": [
    "# use standard operators\n",
    "tns+1\n"
   ]
  },
  {
   "cell_type": "code",
   "execution_count": 144,
   "metadata": {},
   "outputs": [
    {
     "data": {
      "text/plain": [
       "'torch.LongTensor'"
      ]
     },
     "execution_count": 144,
     "metadata": {},
     "output_type": "execute_result"
    }
   ],
   "source": [
    "# tensors have a type\n",
    "tns.type()\n"
   ]
  },
  {
   "cell_type": "code",
   "execution_count": 145,
   "metadata": {},
   "outputs": [
    {
     "data": {
      "text/plain": [
       "tensor([[1.5000, 3.0000, 4.5000],\n",
       "        [6.0000, 7.5000, 9.0000]])"
      ]
     },
     "execution_count": 145,
     "metadata": {},
     "output_type": "execute_result"
    }
   ],
   "source": [
    "# automatically change type if needed\n",
    "tns*1.5"
   ]
  },
  {
   "cell_type": "code",
   "execution_count": 146,
   "metadata": {},
   "outputs": [
    {
     "data": {
      "text/plain": [
       "tensor([[ 2,  4,  6],\n",
       "        [ 8, 10, 12],\n",
       "        [14, 16, 18]])"
      ]
     },
     "execution_count": 146,
     "metadata": {},
     "output_type": "execute_result"
    }
   ],
   "source": [
    "# Question 9 in quiz\n",
    "data = [[1,2,3],[4,5,6],[7,8,9]]\n",
    "\n",
    "tns = tensor(data)\n",
    "\n",
    "tns_dbl = tns*2\n",
    "\n",
    "tns_dbl"
   ]
  },
  {
   "cell_type": "code",
   "execution_count": 147,
   "metadata": {},
   "outputs": [
    {
     "data": {
      "text/plain": [
       "(torch.Size([1010, 28, 28]), torch.Size([1028, 28, 28]))"
      ]
     },
     "execution_count": 147,
     "metadata": {},
     "output_type": "execute_result"
    }
   ],
   "source": [
    "# Create tensors for validation sets\n",
    "valid_3_tens = torch.stack([tensor(Image.open(o)) for o in (path/'valid'/'3').ls()])\n",
    "valid_3_tens = valid_3_tens.float()/255\n",
    "\n",
    "valid_7_tens = torch.stack([tensor(Image.open(o)) for o in (path/'valid'/'7').ls()])\n",
    "valid_7_tens = valid_7_tens.float()/255\n",
    "\n",
    "valid_3_tens.shape, valid_7_tens.shape"
   ]
  },
  {
   "cell_type": "code",
   "execution_count": 148,
   "metadata": {},
   "outputs": [
    {
     "data": {
      "text/plain": [
       "tensor(0.1114)"
      ]
     },
     "execution_count": 148,
     "metadata": {},
     "output_type": "execute_result"
    }
   ],
   "source": [
    "# Create function to calculate mean absolute error\n",
    "\n",
    "# function breakdown\n",
    "# (a-b) - allows broadcasting\n",
    "# abs() - applies absolute value to each individual element of the tensor, then returns a tensor of the results\n",
    "# mean((-1,-2)) - (-1,-2) represents a range of axis. This tells PyTorch we want the mean ranging over values indexed by the last two axis of the tensor\n",
    "\n",
    "def mnist_distance(a,b): return (a-b).abs().mean((-1,-2))\n",
    "mnist_distance(a_3, mean_3)"
   ]
  },
  {
   "cell_type": "code",
   "execution_count": 149,
   "metadata": {},
   "outputs": [
    {
     "data": {
      "text/plain": [
       "tensor([2, 3, 4])"
      ]
     },
     "execution_count": 149,
     "metadata": {},
     "output_type": "execute_result"
    }
   ],
   "source": [
    "# Broadcasting example\n",
    "# tensor([1]) is expanded to be tensor([1,1,1])\n",
    "tensor([1,2,3]) + tensor([1])"
   ]
  },
  {
   "cell_type": "code",
   "execution_count": 150,
   "metadata": {},
   "outputs": [
    {
     "data": {
      "text/plain": [
       "torch.Size([1010, 28, 28])"
      ]
     },
     "execution_count": 150,
     "metadata": {},
     "output_type": "execute_result"
    }
   ],
   "source": [
    "# mean_3 is a rank 2 tensor representing a single image\n",
    "# PyTorch treats mean_3 as if it were 1,010 copies of the single image\n",
    "# Then those 1,010 copies are subtracted from each 3 in the validation set\n",
    "\n",
    "# Calculates the difference between the \"ideal 3\" (mean 3), and each of the 1,010 3s in the validation set\n",
    "(valid_3_tens - mean_3).shape"
   ]
  },
  {
   "cell_type": "code",
   "execution_count": 151,
   "metadata": {},
   "outputs": [],
   "source": [
    "# Use mnist_distance to figure out if an image is a 3\n",
    "# If distance between digit and ideal 3 is less than distance between digit and ideal 7, it is a 3\n",
    "def is_3(x): return mnist_distance(x,mean_3) < mnist_distance(x, mean_7)"
   ]
  },
  {
   "cell_type": "code",
   "execution_count": 152,
   "metadata": {},
   "outputs": [
    {
     "data": {
      "text/plain": [
       "(tensor(True), tensor(1.))"
      ]
     },
     "execution_count": 152,
     "metadata": {},
     "output_type": "execute_result"
    }
   ],
   "source": [
    "# Testing if function works\n",
    "# If we convert boolean T/F response to a float, it is either 1.0 or 0.0\n",
    "is_3(a_3), is_3(a_3).float()"
   ]
  },
  {
   "cell_type": "code",
   "execution_count": 153,
   "metadata": {},
   "outputs": [
    {
     "data": {
      "text/plain": [
       "tensor([True, True, True,  ..., True, True, True])"
      ]
     },
     "execution_count": 153,
     "metadata": {},
     "output_type": "execute_result"
    }
   ],
   "source": [
    "# Testing on validation tensor with broadcasting\n",
    "is_3(valid_3_tens)"
   ]
  },
  {
   "cell_type": "code",
   "execution_count": 154,
   "metadata": {},
   "outputs": [
    {
     "data": {
      "text/plain": [
       "(tensor(0.9168), tensor(0.9854), tensor(0.9511))"
      ]
     },
     "execution_count": 154,
     "metadata": {},
     "output_type": "execute_result"
    }
   ],
   "source": [
    "# Calculate accuracy for each of the 3sand 7s by taking average of function for all 3s and inverse for 7s\n",
    "\n",
    "accuracy_3s = is_3(valid_3_tens).float().mean()\n",
    "accuracy_7s = (1 - is_3(valid_7_tens).float().mean())\n",
    "\n",
    "accuracy_3s, accuracy_7s, (accuracy_3s+accuracy_7s)/2"
   ]
  },
  {
   "cell_type": "code",
   "execution_count": 155,
   "metadata": {},
   "outputs": [
    {
     "data": {
      "image/png": "[encoded data removed]",
      "text/plain": [
       "<Figure size 600x400 with 1 Axes>"
      ]
     },
     "metadata": {},
     "output_type": "display_data"
    }
   ],
   "source": [
    "def f(x): return x**2\n",
    "\n",
    "plot_function(f, 'x', 'x**2')"
   ]
  },
  {
   "cell_type": "code",
   "execution_count": 156,
   "metadata": {},
   "outputs": [],
   "source": [
    "# Pick a tensor value that we want gradients at\n",
    "# requires_grad_() tells PyTorch we want to calculate gradients with respect to that variable at that variable\n",
    "xt = tensor(3.).requires_grad_()"
   ]
  },
  {
   "cell_type": "code",
   "execution_count": 157,
   "metadata": {},
   "outputs": [
    {
     "data": {
      "text/plain": [
       "tensor(9., grad_fn=<PowBackward0>)"
      ]
     },
     "execution_count": 157,
     "metadata": {},
     "output_type": "execute_result"
    }
   ],
   "source": [
    "# Calculate our function using that value\n",
    "yt = f(xt)\n",
    "yt"
   ]
  },
  {
   "cell_type": "code",
   "execution_count": 158,
   "metadata": {},
   "outputs": [],
   "source": [
    "# Tell PyTorch to calculate the gradient\n",
    "yt.backward()"
   ]
  },
  {
   "cell_type": "code",
   "execution_count": 159,
   "metadata": {},
   "outputs": [
    {
     "data": {
      "text/plain": [
       "tensor(6.)"
      ]
     },
     "execution_count": 159,
     "metadata": {},
     "output_type": "execute_result"
    }
   ],
   "source": [
    "# View gradients by checking grad attribute of tensor\n",
    "xt.grad"
   ]
  },
  {
   "cell_type": "code",
   "execution_count": 160,
   "metadata": {},
   "outputs": [
    {
     "data": {
      "text/plain": [
       "tensor([ 3.,  4., 10.], requires_grad=True)"
      ]
     },
     "execution_count": 160,
     "metadata": {},
     "output_type": "execute_result"
    }
   ],
   "source": [
    "# Repeat, but with a vector argument for the function\n",
    "\n",
    "xt = tensor([3.,4.,10.]).requires_grad_()\n",
    "xt"
   ]
  },
  {
   "cell_type": "code",
   "execution_count": 161,
   "metadata": {},
   "outputs": [
    {
     "data": {
      "text/plain": [
       "tensor(125., grad_fn=<SumBackward0>)"
      ]
     },
     "execution_count": 161,
     "metadata": {},
     "output_type": "execute_result"
    }
   ],
   "source": [
    "# Add sum to function so it can take a vector and return a scalar\n",
    "def f(x): return(x**2).sum()\n",
    "\n",
    "yt = f(xt)\n",
    "yt"
   ]
  },
  {
   "cell_type": "code",
   "execution_count": 162,
   "metadata": {},
   "outputs": [
    {
     "data": {
      "text/plain": [
       "tensor([ 6.,  8., 20.])"
      ]
     },
     "execution_count": 162,
     "metadata": {},
     "output_type": "execute_result"
    }
   ],
   "source": [
    "# Calculate gradients\n",
    "yt.backward()\n",
    "xt.grad"
   ]
  },
  {
   "cell_type": "code",
   "execution_count": 163,
   "metadata": {},
   "outputs": [
    {
     "data": {
      "text/plain": [
       "<matplotlib.collections.PathCollection at 0x7f6b8ad72050>"
      ]
     },
     "execution_count": 163,
     "metadata": {},
     "output_type": "execute_result"
    },
    {
     "data": {
      "image/png": "[encoded data removed]",
      "text/plain": [
       "<Figure size 640x480 with 1 Axes>"
      ]
     },
     "metadata": {},
     "output_type": "display_data"
    }
   ],
   "source": [
    "# Full SGD example\n",
    "# Measuring the speed of a rolloer coaster as it went over a hill\n",
    "# Creating fake data to fit the idea above\n",
    "\n",
    "# 20 seconds of time measured\n",
    "time = torch.arange(0,20).float(); time\n",
    "\n",
    "# Random speed at each of those 20 seconds\n",
    "speed = torch.randn(20)*3 + 0.75*(time - 9.5)**2 + 1\n",
    "\n",
    "plt.scatter(time, speed)"
   ]
  },
  {
   "cell_type": "code",
   "execution_count": 164,
   "metadata": {},
   "outputs": [],
   "source": [
    "# Can't consider every possible function, we guess that it will be quadratic\n",
    "# Function like: a*(time**2)+(b*time)+c\n",
    "\n",
    "# We distinguish between the functions input (time, t) and the parameters (a,b,c) - the values that define the quadratic being tried\n",
    "def f(t, params):\n",
    "    a,b,c = params\n",
    "    return a*(t**2) + (b*t) + c\n",
    "\n",
    "# Every quadratic function is fully defined by a,b,c\n",
    "# To find the best quadratic function, we only need to find the best values for a,b,c\n",
    "# If we can solve to find the three parameters of a quadratic function, we can apply the same approach for more complex functions (neural nets)"
   ]
  },
  {
   "cell_type": "code",
   "execution_count": 165,
   "metadata": {},
   "outputs": [],
   "source": [
    "# Choose a loss function\n",
    "# For continuous data, a common loss function is MSE - mean squared error\n",
    "def mse(preds, targets): return((preds-targets)**2).mean()"
   ]
  },
  {
   "cell_type": "code",
   "execution_count": 166,
   "metadata": {},
   "outputs": [],
   "source": [
    "# Step 1: Initialize parameters\n",
    "# Use random values and tell PyTorch to track their gradients\n",
    "params = torch.randn(3).requires_grad_()"
   ]
  },
  {
   "cell_type": "code",
   "execution_count": 167,
   "metadata": {},
   "outputs": [],
   "source": [
    "# Step 2: Calculate predictions\n",
    "preds = f(time, params)"
   ]
  },
  {
   "cell_type": "code",
   "execution_count": 168,
   "metadata": {},
   "outputs": [],
   "source": [
    "# Create a function to visaulize how close predictions are to targets\n",
    "def show_preds(preds, ax=None):\n",
    "    if ax is None: ax=plt.subplots()[1]\n",
    "    ax.scatter(time, speed)\n",
    "    ax.scatter(time, to_np(preds), color='red')\n",
    "    ax.set_ylim(-300,100)"
   ]
  },
  {
   "cell_type": "code",
   "execution_count": 169,
   "metadata": {},
   "outputs": [
    {
     "data": {
      "image/png": "[encoded data removed]",
      "text/plain": [
       "<Figure size 640x480 with 1 Axes>"
      ]
     },
     "metadata": {},
     "output_type": "display_data"
    }
   ],
   "source": [
    "show_preds(preds)"
   ]
  },
  {
   "cell_type": "code",
   "execution_count": 170,
   "metadata": {},
   "outputs": [
    {
     "data": {
      "text/plain": [
       "tensor(18141.9590, grad_fn=<MeanBackward0>)"
      ]
     },
     "execution_count": 170,
     "metadata": {},
     "output_type": "execute_result"
    }
   ],
   "source": [
    "# Step 3: Calculate loss\n",
    "# Calculate the loss using the earlier defined MSE function\n",
    "loss = mse(preds, speed)\n",
    "loss"
   ]
  },
  {
   "cell_type": "code",
   "execution_count": 171,
   "metadata": {},
   "outputs": [
    {
     "data": {
      "text/plain": [
       "tensor([-44402.4141,  -2845.0056,   -212.2690])"
      ]
     },
     "execution_count": 171,
     "metadata": {},
     "output_type": "execute_result"
    }
   ],
   "source": [
    "# Step 4: Calculate the gradients\n",
    "# Calculate and approximation of how the parameters need to change\n",
    "loss.backward()\n",
    "params.grad"
   ]
  },
  {
   "cell_type": "code",
   "execution_count": 172,
   "metadata": {},
   "outputs": [
    {
     "data": {
      "text/plain": [
       "tensor([-0.4440, -0.0285, -0.0021])"
      ]
     },
     "execution_count": 172,
     "metadata": {},
     "output_type": "execute_result"
    }
   ],
   "source": [
    "# Multiply gradients by learning rate - in this case, we pick 1e-5, or 0.00001\n",
    "params.grad * 1e-5"
   ]
  },
  {
   "cell_type": "code",
   "execution_count": 173,
   "metadata": {},
   "outputs": [
    {
     "data": {
      "text/plain": [
       "tensor([-0.6467, -0.1661,  0.5951], requires_grad=True)"
      ]
     },
     "execution_count": 173,
     "metadata": {},
     "output_type": "execute_result"
    }
   ],
   "source": [
    "params"
   ]
  },
  {
   "cell_type": "code",
   "execution_count": 174,
   "metadata": {},
   "outputs": [],
   "source": [
    "# Step 5: Step the weights\n",
    "# Update parameters based on gradients we just calculated\n",
    "\n",
    "lr = 1e-5\n",
    "params.data -= lr * params.grad.data\n",
    "params.grad = None"
   ]
  },
  {
   "cell_type": "code",
   "execution_count": 175,
   "metadata": {},
   "outputs": [
    {
     "data": {
      "text/plain": [
       "tensor(3937.4524, grad_fn=<MeanBackward0>)"
      ]
     },
     "execution_count": 175,
     "metadata": {},
     "output_type": "execute_result"
    }
   ],
   "source": [
    "# Check to see if the loss has improved\n",
    "preds = f(time, params)\n",
    "mse(preds, speed)"
   ]
  },
  {
   "cell_type": "code",
   "execution_count": 176,
   "metadata": {},
   "outputs": [
    {
     "data": {
      "image/png": "[encoded data removed]",
      "text/plain": [
       "<Figure size 640x480 with 1 Axes>"
      ]
     },
     "metadata": {},
     "output_type": "display_data"
    }
   ],
   "source": [
    "# Visualize again\n",
    "show_preds(preds)"
   ]
  },
  {
   "cell_type": "code",
   "execution_count": 177,
   "metadata": {},
   "outputs": [],
   "source": [
    "# SGD needs to be ran multiple times, to we create a function to apply 1 step\n",
    "def apply_step(params, prn=True):\n",
    "    preds = f(time,params)\n",
    "    loss = mse(preds, speed)\n",
    "    loss.backward()\n",
    "    params.data -= lr * params.grad.data\n",
    "    params.grad = None\n",
    "    if prn: print(loss.item())\n",
    "    return preds"
   ]
  },
  {
   "cell_type": "code",
   "execution_count": 178,
   "metadata": {},
   "outputs": [
    {
     "name": "stdout",
     "output_type": "stream",
     "text": [
      "3937.452392578125\n",
      "1249.52490234375\n",
      "740.8843383789062\n",
      "644.6314697265625\n",
      "626.414794921875\n",
      "622.9651489257812\n",
      "622.3097534179688\n",
      "622.1832275390625\n",
      "622.1566772460938\n",
      "622.1490478515625\n"
     ]
    }
   ],
   "source": [
    "# Step 6: repeat process\n",
    "# Now we iterate multiple times, to reach a good predictor\n",
    "for i in range(10): apply_step(params)"
   ]
  },
  {
   "cell_type": "code",
   "execution_count": 179,
   "metadata": {},
   "outputs": [
    {
     "data": {
      "image/png": "[encoded data removed]",
      "text/plain": [
       "<Figure size 1200x300 with 4 Axes>"
      ]
     },
     "metadata": {},
     "output_type": "display_data"
    }
   ],
   "source": [
    "# See process visually of finding the best function\n",
    "_,axs = plt.subplots(1,4,figsize=(12,3))\n",
    "for ax in axs: show_preds(apply_step(params, False), ax)\n",
    "plt.tight_layout()"
   ]
  },
  {
   "cell_type": "code",
   "execution_count": 180,
   "metadata": {},
   "outputs": [],
   "source": [
    "# Step 7: stop\n",
    "# We stopped at 10 epochs arbitrarily"
   ]
  },
  {
   "cell_type": "code",
   "execution_count": 181,
   "metadata": {},
   "outputs": [],
   "source": [
    "# MNIST loss function\n",
    "# We start by concatenating all our independent variables - the images - into a single function\n",
    "# Also change them from a list of matrices to a list of vectors (rank 3 to rank 2 tensor)\n",
    "# View - PyTorch method that changes the shape of a tensor without changing it contents.\n",
    "# -1 tells view to make the axis as big as necessary to fit all the data\n",
    "train_x = torch.cat([stacked_threes, stacked_sevens]).view(-1, 28*28)"
   ]
  },
  {
   "cell_type": "code",
   "execution_count": 182,
   "metadata": {},
   "outputs": [
    {
     "data": {
      "text/plain": [
       "(torch.Size([12396, 784]), torch.Size([12396, 1]))"
      ]
     },
     "execution_count": 182,
     "metadata": {},
     "output_type": "execute_result"
    }
   ],
   "source": [
    "# A label is needed for each image\n",
    "train_y = tensor([1]*len(threes) + [0]*len(sevens)).unsqueeze(1)\n",
    "train_x.shape,train_y.shape "
   ]
  },
  {
   "cell_type": "code",
   "execution_count": 183,
   "metadata": {},
   "outputs": [
    {
     "data": {
      "text/plain": [
       "(torch.Size([784]), tensor([1]))"
      ]
     },
     "execution_count": 183,
     "metadata": {},
     "output_type": "execute_result"
    }
   ],
   "source": [
    "dset = list(zip(train_x,train_y))\n",
    "x,y = dset[0]\n",
    "x.shape, y"
   ]
  },
  {
   "cell_type": "code",
   "execution_count": 184,
   "metadata": {},
   "outputs": [],
   "source": [
    "valid_x = torch.cat([valid_3_tens, valid_7_tens]).view(-1, 28*28)\n",
    "valid_y = tensor([1]*len(valid_3_tens) + [0]*len(valid_7_tens)).unsqueeze(1)\n",
    "valid_dset = list(zip(valid_x,valid_y))"
   ]
  },
  {
   "cell_type": "code",
   "execution_count": 185,
   "metadata": {},
   "outputs": [],
   "source": [
    "# Initialize step in SGD\n",
    "# Add a weight for every pixel\n",
    "def init_params(size, std=1.0): return(torch.randn(size)*std).requires_grad_()"
   ]
  },
  {
   "cell_type": "code",
   "execution_count": 186,
   "metadata": {},
   "outputs": [],
   "source": [
    "weights = init_params((28*28, 1))"
   ]
  },
  {
   "cell_type": "code",
   "execution_count": 187,
   "metadata": {},
   "outputs": [],
   "source": [
    "# Weight * pixel won't work for white pixels with value 0.\n",
    "# Formula for a line is y=mx+b - we need to initialize b\n",
    "bias = init_params(1)\n",
    "\n",
    "# In a neural network, m is the weights, and b is the bias. Together weights and bias make up parameters"
   ]
  },
  {
   "cell_type": "code",
   "execution_count": 188,
   "metadata": {},
   "outputs": [
    {
     "data": {
      "text/plain": [
       "tensor([7.1331], grad_fn=<AddBackward0>)"
      ]
     },
     "execution_count": 188,
     "metadata": {},
     "output_type": "execute_result"
    }
   ],
   "source": [
    "# Calculate prediction for one image\n",
    "# x = train_x, m = weights, b = bias\n",
    "# y = mx+b\n",
    "(train_x[0]*weights.T).sum() + bias"
   ]
  },
  {
   "cell_type": "code",
   "execution_count": 189,
   "metadata": {},
   "outputs": [
    {
     "data": {
      "text/plain": [
       "tensor([[ 7.1331],\n",
       "        [ 9.7273],\n",
       "        [ 0.7299],\n",
       "        ...,\n",
       "        [ 1.7668],\n",
       "        [-3.8504],\n",
       "        [ 9.9804]], grad_fn=<AddBackward0>)"
      ]
     },
     "execution_count": 189,
     "metadata": {},
     "output_type": "execute_result"
    }
   ],
   "source": [
    "# Matrix multiplication calculates mx for every row of a matrix\n",
    "# More efficient way to solve for prediction of every image\n",
    "def linear1(xb): return xb@weights + bias\n",
    "preds = linear1(train_x)\n",
    "preds\n",
    "\n",
    "# The equation batch@weights + bias is one of two fundamental equations of any neural network"
   ]
  },
  {
   "cell_type": "code",
   "execution_count": 190,
   "metadata": {},
   "outputs": [
    {
     "data": {
      "text/plain": [
       "tensor([[ True],\n",
       "        [ True],\n",
       "        [ True],\n",
       "        ...,\n",
       "        [False],\n",
       "        [ True],\n",
       "        [False]])"
      ]
     },
     "execution_count": 190,
     "metadata": {},
     "output_type": "execute_result"
    }
   ],
   "source": [
    "# Check accuracy\n",
    "# To decide if output represents 3 or 7, we just check whether it is greater than 0.0\n",
    "corrects = (preds>0.0).float() == train_y\n",
    "corrects"
   ]
  },
  {
   "cell_type": "code",
   "execution_count": 191,
   "metadata": {},
   "outputs": [
    {
     "data": {
      "text/plain": [
       "0.444498211145401"
      ]
     },
     "execution_count": 191,
     "metadata": {},
     "output_type": "execute_result"
    }
   ],
   "source": [
    "corrects.float().mean().item()"
   ]
  },
  {
   "cell_type": "code",
   "execution_count": 192,
   "metadata": {},
   "outputs": [],
   "source": [
    "# Check what the change in accuracy for a small change in one of the weights\n",
    "with torch.no_grad(): weights[0] *= 1.0001"
   ]
  },
  {
   "cell_type": "code",
   "execution_count": 193,
   "metadata": {},
   "outputs": [
    {
     "data": {
      "text/plain": [
       "0.444498211145401"
      ]
     },
     "execution_count": 193,
     "metadata": {},
     "output_type": "execute_result"
    }
   ],
   "source": [
    "preds = linear1(train_x)\n",
    "((preds>0.0).float()==train_y).float().mean().item()"
   ]
  },
  {
   "cell_type": "code",
   "execution_count": 194,
   "metadata": {},
   "outputs": [],
   "source": [
    "# We need gradients to improve our model in SGD\n",
    "# We need a loss function to calculate gradients\n",
    "# Loss function will show that if the correct answer is 3, the score is a little higher, and if the answer is 7, the score is a little lower\n",
    "# The function needs the images and the predictions from the model\n",
    "# prds - each value is the prediction that an image is a 3\n",
    "# Function needs to measure the difference between predicted values and true values\n",
    "# trgts - 0 or 1, tells if an image is a 3\n",
    "\n",
    "# practice trgts and prds\n",
    "trgts = tensor([1,0,1])\n",
    "prds = tensor([0.9, 0.4, 0.2])"
   ]
  },
  {
   "cell_type": "code",
   "execution_count": 195,
   "metadata": {},
   "outputs": [],
   "source": [
    "# First pass at a loss function, measuring distance between predictions and targets\n",
    "def mnist_loss(predictions, targets):\n",
    "    return torch.where(targets==1, 1-predictions, predictions).mean()\n",
    "\n",
    "# torch.where(a,b,c) - same as list comprehension [b[i] if a[i] else c[i] for i in range(len(a))], except it works on tensors at cuda speeds\n",
    "# This specific function measures how distance each prediction is from 1 if it should be a 1, and how distant it is from 0 if it should be a 0, then takes the mean of all distances"
   ]
  },
  {
   "cell_type": "code",
   "execution_count": 196,
   "metadata": {},
   "outputs": [
    {
     "data": {
      "text/plain": [
       "tensor(0.4333)"
      ]
     },
     "execution_count": 196,
     "metadata": {},
     "output_type": "execute_result"
    }
   ],
   "source": [
    "# try it on trgts and preds\n",
    "mnist_loss(prds, trgts)\n",
    "# One current problem of function is it assumes predictions are always between 0 and 1"
   ]
  },
  {
   "cell_type": "code",
   "execution_count": 197,
   "metadata": {},
   "outputs": [],
   "source": [
    "# Sigmoids\n",
    "# Sigmoid always outputs a number between 0 and 1\n",
    "\n",
    "def sigmoid(x): return 1/(1+torch.exp(-x))"
   ]
  },
  {
   "cell_type": "code",
   "execution_count": 198,
   "metadata": {},
   "outputs": [
    {
     "data": {
      "image/png": "[encoded data removed]",
      "text/plain": [
       "<Figure size 600x400 with 1 Axes>"
      ]
     },
     "metadata": {},
     "output_type": "display_data"
    }
   ],
   "source": [
    "# PyTorch defines an accelerated sigmoid function, so we can use that\n",
    "plot_function(torch.sigmoid, title='Sigmoid', min=-4, max=4)"
   ]
  },
  {
   "cell_type": "code",
   "execution_count": 199,
   "metadata": {},
   "outputs": [],
   "source": [
    "# Update mnist_loss to apply sigmoid to gradients first\n",
    "def mnist_loss(predictions, targets):\n",
    "    predictions = predictions.sigmoid()\n",
    "    return torch.where(targets==1, 1-predictions, predictions).mean()\n",
    "\n",
    "# This ensures that our loss function will work, even if predictions are not between 0 and 1"
   ]
  },
  {
   "cell_type": "code",
   "execution_count": 200,
   "metadata": {},
   "outputs": [],
   "source": [
    "# Implement gradient descent\n",
    "# Pseudocode of gradient descent for each epoch\n",
    "\n",
    "# for x,y in dl:\n",
    "#     pred = model(x)\n",
    "#     loss = loss_func(pred, y)\n",
    "#     loss.backward()\n",
    "#     parameters -= parameters.grad*lr"
   ]
  },
  {
   "cell_type": "code",
   "execution_count": 201,
   "metadata": {},
   "outputs": [],
   "source": [
    "# Re-initialize parameters\n",
    "weights = init_params((28*28, 1))\n",
    "bias = init_params(1)"
   ]
  },
  {
   "cell_type": "code",
   "execution_count": 202,
   "metadata": {},
   "outputs": [
    {
     "data": {
      "text/plain": [
       "(torch.Size([256, 784]), torch.Size([256, 1]))"
      ]
     },
     "execution_count": 202,
     "metadata": {},
     "output_type": "execute_result"
    }
   ],
   "source": [
    "# Create a dataloader from the dataset\n",
    "dl = DataLoader(dset, batch_size=256)\n",
    "xb,yb = first(dl)\n",
    "xb.shape, yb.shape"
   ]
  },
  {
   "cell_type": "code",
   "execution_count": 203,
   "metadata": {},
   "outputs": [],
   "source": [
    "# Create dataloader for validation dataset\n",
    "valid_dl = DataLoader(valid_dset, batch_size=256)"
   ]
  },
  {
   "cell_type": "code",
   "execution_count": 204,
   "metadata": {},
   "outputs": [
    {
     "data": {
      "text/plain": [
       "torch.Size([4, 784])"
      ]
     },
     "execution_count": 204,
     "metadata": {},
     "output_type": "execute_result"
    }
   ],
   "source": [
    "# Create a mini batch of size 4 for testing\n",
    "batch = train_x[:4]\n",
    "batch.shape"
   ]
  },
  {
   "cell_type": "code",
   "execution_count": 205,
   "metadata": {},
   "outputs": [
    {
     "data": {
      "text/plain": [
       "tensor([[-16.0443],\n",
       "        [ -2.6562],\n",
       "        [ -3.3153],\n",
       "        [-16.6191]], grad_fn=<AddBackward0>)"
      ]
     },
     "execution_count": 205,
     "metadata": {},
     "output_type": "execute_result"
    }
   ],
   "source": [
    "preds = linear1(batch)\n",
    "preds"
   ]
  },
  {
   "cell_type": "code",
   "execution_count": 206,
   "metadata": {},
   "outputs": [
    {
     "data": {
      "text/plain": [
       "tensor(0.9748, grad_fn=<MeanBackward0>)"
      ]
     },
     "execution_count": 206,
     "metadata": {},
     "output_type": "execute_result"
    }
   ],
   "source": [
    "loss = mnist_loss(preds, train_y[:4])\n",
    "loss"
   ]
  },
  {
   "cell_type": "code",
   "execution_count": 207,
   "metadata": {},
   "outputs": [
    {
     "data": {
      "text/plain": [
       "(torch.Size([784, 1]), tensor(-0.0034), tensor([-0.0238]))"
      ]
     },
     "execution_count": 207,
     "metadata": {},
     "output_type": "execute_result"
    }
   ],
   "source": [
    "# Calculate gradients\n",
    "loss.backward()\n",
    "weights.grad.shape,weights.grad.mean(),bias.grad"
   ]
  },
  {
   "cell_type": "code",
   "execution_count": 208,
   "metadata": {},
   "outputs": [],
   "source": [
    "# Put prediction, loss, and gradient calculation into a function\n",
    "def calc_grad(xb, yb, model):\n",
    "    preds = model(xb)\n",
    "    loss = mnist_loss(preds, yb)\n",
    "    loss.backward()"
   ]
  },
  {
   "cell_type": "code",
   "execution_count": 209,
   "metadata": {},
   "outputs": [
    {
     "data": {
      "text/plain": [
       "(tensor(-0.0068), tensor([-0.0476]))"
      ]
     },
     "execution_count": 209,
     "metadata": {},
     "output_type": "execute_result"
    }
   ],
   "source": [
    "# Test\n",
    "calc_grad(batch,train_y[:4],linear1)\n",
    "weights.grad.mean(),bias.grad"
   ]
  },
  {
   "cell_type": "code",
   "execution_count": 210,
   "metadata": {},
   "outputs": [],
   "source": [
    "# Calling it twice changes the gradients\n",
    "# Loss will add gradients of loss to any gradients that are currently stored\n",
    "# Set current gradients to 0 first\n",
    "\n",
    "weights.grad.zero_()\n",
    "bias.grad.zero_();"
   ]
  },
  {
   "cell_type": "code",
   "execution_count": 211,
   "metadata": {},
   "outputs": [],
   "source": [
    "# last remaining step is to update the weights and biases based on gradient and learning rate\n",
    "# Need to tell pytorch not to take the gradient of this step in order to avoid confusion\n",
    "# Basic epoch training loop\n",
    "def train_epoch(model, lr, params):\n",
    "    for xb, yb in dl:\n",
    "        calc_grad(xb, yb, model)\n",
    "        for p in params:\n",
    "            p.data -= p.grad*lr\n",
    "            p.grad.zero_()"
   ]
  },
  {
   "cell_type": "code",
   "execution_count": 212,
   "metadata": {},
   "outputs": [
    {
     "data": {
      "text/plain": [
       "tensor([[False],\n",
       "        [False],\n",
       "        [False],\n",
       "        [False]])"
      ]
     },
     "execution_count": 212,
     "metadata": {},
     "output_type": "execute_result"
    }
   ],
   "source": [
    "# Also want to check accuracy by looking at the validation set\n",
    "# To check if output is 3 or 7, we can just check if it is greater tahn 0\n",
    "# Use broadcasting to calculate accuracy\n",
    "(preds>0.0).float() == train_y[:4]"
   ]
  },
  {
   "cell_type": "code",
   "execution_count": 213,
   "metadata": {},
   "outputs": [],
   "source": [
    "# Create function to calculate validation accuracy\n",
    "def batch_accuracy(xb,yb):\n",
    "    preds = xb.sigmoid()\n",
    "    correct = (preds>0.5) == yb\n",
    "    return correct.float().mean()"
   ]
  },
  {
   "cell_type": "code",
   "execution_count": 214,
   "metadata": {},
   "outputs": [
    {
     "data": {
      "text/plain": [
       "tensor(0.)"
      ]
     },
     "execution_count": 214,
     "metadata": {},
     "output_type": "execute_result"
    }
   ],
   "source": [
    "# Check that is works\n",
    "batch_accuracy(linear1(batch), train_y[:4])"
   ]
  },
  {
   "cell_type": "code",
   "execution_count": 215,
   "metadata": {},
   "outputs": [],
   "source": [
    "# put batches together\n",
    "def validate_epoch(model):\n",
    "    accs = [batch_accuracy(model(xb), yb) for xb, yb in valid_dl]\n",
    "    return round(torch.stack(accs).mean().item(),4)"
   ]
  },
  {
   "cell_type": "code",
   "execution_count": 216,
   "metadata": {},
   "outputs": [
    {
     "data": {
      "text/plain": [
       "0.5354"
      ]
     },
     "execution_count": 216,
     "metadata": {},
     "output_type": "execute_result"
    }
   ],
   "source": [
    "validate_epoch(linear1)"
   ]
  },
  {
   "cell_type": "code",
   "execution_count": 217,
   "metadata": {},
   "outputs": [
    {
     "data": {
      "text/plain": [
       "0.7737"
      ]
     },
     "execution_count": 217,
     "metadata": {},
     "output_type": "execute_result"
    }
   ],
   "source": [
    "# train for one epoch and see if accuracy improves\n",
    "lr = 1.\n",
    "params = weights, bias\n",
    "train_epoch(linear1, lr, params)\n",
    "validate_epoch(linear1)"
   ]
  },
  {
   "cell_type": "code",
   "execution_count": 218,
   "metadata": {},
   "outputs": [
    {
     "name": "stdout",
     "output_type": "stream",
     "text": [
      "0.8845 0.9178 0.9348 0.9446 0.9524 0.9554 0.9573 0.9588 0.9612 0.9636 0.9641 0.9646 0.9656 0.9666 0.9671 0.9676 0.969 0.9695 0.9695 0.9705 "
     ]
    }
   ],
   "source": [
    "# Train for more epochs\n",
    "for i in range(20):\n",
    "    train_epoch(linear1, lr, params)\n",
    "    print(validate_epoch(linear1), end=' ')"
   ]
  },
  {
   "cell_type": "code",
   "execution_count": 219,
   "metadata": {},
   "outputs": [],
   "source": [
    "# PyTorch provides classes to implement the general foundations easier\n",
    "# WE can replace linear1 function with nn.Linear module from PyTorch\n",
    "# nn.Linear does the same thing as init_params and linear together\n",
    "# It contains the weights and biases in a single class\n",
    "\n",
    "linear_model = nn.Linear(28*28,1)"
   ]
  },
  {
   "cell_type": "code",
   "execution_count": 220,
   "metadata": {},
   "outputs": [
    {
     "data": {
      "text/plain": [
       "(torch.Size([1, 784]), torch.Size([1]))"
      ]
     },
     "execution_count": 220,
     "metadata": {},
     "output_type": "execute_result"
    }
   ],
   "source": [
    "# PyTorch even knows what parameters we can train on - available through the parameters method\n",
    "w,b = linear_model.parameters()\n",
    "w.shape, b.shape"
   ]
  },
  {
   "cell_type": "code",
   "execution_count": 227,
   "metadata": {},
   "outputs": [],
   "source": [
    "# We can use this to create a simple optimizer\n",
    "class BasicOptim:\n",
    "    def __init__(self,params,lr): self.params,self.lr = list(params),lr\n",
    "\n",
    "    def step(self, *args, **kwargs):\n",
    "        for p in self.params: p.data -= p.grad.data * self.lr\n",
    "\n",
    "    def zero_grad(self, *args, **kwargs):\n",
    "        for p in self.params: p.grad = None\n",
    "     "
   ]
  },
  {
   "cell_type": "code",
   "execution_count": 222,
   "metadata": {},
   "outputs": [],
   "source": [
    "# Create optimizer by passing in models parameters\n",
    "opt = BasicOptim(linear_model.parameters(), lr)"
   ]
  },
  {
   "cell_type": "code",
   "execution_count": 228,
   "metadata": {},
   "outputs": [],
   "source": [
    "# Simplify training loop\n",
    "\n",
    "def train_epoch(model):\n",
    "    for xb,yb in dl:\n",
    "        calc_grad(xb, yb, model)\n",
    "        opt.step()\n",
    "        opt.zero_grad()"
   ]
  },
  {
   "cell_type": "code",
   "execution_count": 224,
   "metadata": {},
   "outputs": [
    {
     "data": {
      "text/plain": [
       "0.4047"
      ]
     },
     "execution_count": 224,
     "metadata": {},
     "output_type": "execute_result"
    }
   ],
   "source": [
    "# Validation function stays the same\n",
    "validate_epoch(linear_model)"
   ]
  },
  {
   "cell_type": "code",
   "execution_count": 229,
   "metadata": {},
   "outputs": [],
   "source": [
    "# Put it into a function to simplify\n",
    "\n",
    "def train_model(model, epochs):\n",
    "    for i in range(epochs):\n",
    "        train_epoch(model)\n",
    "        print(validate_epoch(model), end=' ')\n",
    "     "
   ]
  },
  {
   "cell_type": "code",
   "execution_count": 230,
   "metadata": {},
   "outputs": [
    {
     "name": "stdout",
     "output_type": "stream",
     "text": [
      "0.4932 0.8174 0.8442 0.915 0.9355 0.9472 0.9565 0.9623 0.9658 0.9672 0.9702 0.9721 0.9736 0.9751 0.976 0.9765 0.9775 0.9785 0.9785 0.979 "
     ]
    }
   ],
   "source": [
    "train_model(linear_model, 20)"
   ]
  },
  {
   "cell_type": "code",
   "execution_count": 231,
   "metadata": {},
   "outputs": [
    {
     "name": "stdout",
     "output_type": "stream",
     "text": [
      "0.4932 0.855 0.831 0.9096 0.9321 0.9457 0.956 0.9628 0.9653 0.9677 0.9692 0.9716 0.9736 0.9751 0.976 0.9765 0.9775 0.9785 0.9785 0.9785 "
     ]
    }
   ],
   "source": [
    "# FastAI also provides the SGD class that does the same thing as BasicOptim\n",
    "linear_model = nn.Linear(28*28, 1)\n",
    "opt = SGD(linear_model.parameters(), lr)\n",
    "train_model(linear_model, 20)"
   ]
  },
  {
   "cell_type": "code",
   "execution_count": 232,
   "metadata": {},
   "outputs": [],
   "source": [
    "# FastAI also provides Learner.fit, which we can substitute for train_model\n",
    "# To create a learner, we need to create DataLoads by passing in training and validation DataLoaders\n",
    "dls = DataLoaders(dl, valid_dl)"
   ]
  },
  {
   "cell_type": "code",
   "execution_count": 233,
   "metadata": {},
   "outputs": [],
   "source": [
    "# To create a learner without using an application (ex vision_learner), pass in all elements we have created so far\n",
    "# DataLoaders, model, optimization function, loss function, metrics to print\n",
    "learn = Learner(dls, nn.Linear(28*28, 1),opt_func=SGD, loss_func=mnist_loss, metrics=batch_accuracy)"
   ]
  },
  {
   "cell_type": "code",
   "execution_count": 234,
   "metadata": {},
   "outputs": [
    {
     "data": {
      "text/html": [
       "\n",
       "<style>\n",
       "    /* Turns off some styling */\n",
       "    progress {\n",
       "        /* gets rid of default border in Firefox and Opera. */\n",
       "        border: none;\n",
       "        /* Needs to be in here for Safari polyfill so background images work as expected. */\n",
       "        background-size: auto;\n",
       "    }\n",
       "    progress:not([value]), progress:not([value])::-webkit-progress-bar {\n",
       "        background: repeating-linear-gradient(45deg, #7e7e7e, #7e7e7e 10px, #5c5c5c 10px, #5c5c5c 20px);\n",
       "    }\n",
       "    .progress-bar-interrupted, .progress-bar-interrupted::-webkit-progress-bar {\n",
       "        background: #F44336;\n",
       "    }\n",
       "</style>\n"
      ],
      "text/plain": [
       "<IPython.core.display.HTML object>"
      ]
     },
     "metadata": {},
     "output_type": "display_data"
    },
    {
     "data": {
      "text/html": [
       "<table border=\"1\" class=\"dataframe\">\n",
       "  <thead>\n",
       "    <tr style=\"text-align: left;\">\n",
       "      <th>epoch</th>\n",
       "      <th>train_loss</th>\n",
       "      <th>valid_loss</th>\n",
       "      <th>batch_accuracy</th>\n",
       "      <th>time</th>\n",
       "    </tr>\n",
       "  </thead>\n",
       "  <tbody>\n",
       "    <tr>\n",
       "      <td>0</td>\n",
       "      <td>0.636736</td>\n",
       "      <td>0.503304</td>\n",
       "      <td>0.495584</td>\n",
       "      <td>00:00</td>\n",
       "    </tr>\n",
       "    <tr>\n",
       "      <td>1</td>\n",
       "      <td>0.464964</td>\n",
       "      <td>0.235465</td>\n",
       "      <td>0.789990</td>\n",
       "      <td>00:00</td>\n",
       "    </tr>\n",
       "    <tr>\n",
       "      <td>2</td>\n",
       "      <td>0.173247</td>\n",
       "      <td>0.161472</td>\n",
       "      <td>0.857213</td>\n",
       "      <td>00:00</td>\n",
       "    </tr>\n",
       "    <tr>\n",
       "      <td>3</td>\n",
       "      <td>0.077197</td>\n",
       "      <td>0.099942</td>\n",
       "      <td>0.916094</td>\n",
       "      <td>00:00</td>\n",
       "    </tr>\n",
       "    <tr>\n",
       "      <td>4</td>\n",
       "      <td>0.041752</td>\n",
       "      <td>0.074381</td>\n",
       "      <td>0.935231</td>\n",
       "      <td>00:00</td>\n",
       "    </tr>\n",
       "    <tr>\n",
       "      <td>5</td>\n",
       "      <td>0.027865</td>\n",
       "      <td>0.060200</td>\n",
       "      <td>0.949951</td>\n",
       "      <td>00:00</td>\n",
       "    </tr>\n",
       "    <tr>\n",
       "      <td>6</td>\n",
       "      <td>0.022118</td>\n",
       "      <td>0.051274</td>\n",
       "      <td>0.956820</td>\n",
       "      <td>00:00</td>\n",
       "    </tr>\n",
       "    <tr>\n",
       "      <td>7</td>\n",
       "      <td>0.019526</td>\n",
       "      <td>0.045296</td>\n",
       "      <td>0.963690</td>\n",
       "      <td>00:00</td>\n",
       "    </tr>\n",
       "    <tr>\n",
       "      <td>8</td>\n",
       "      <td>0.018188</td>\n",
       "      <td>0.041072</td>\n",
       "      <td>0.965653</td>\n",
       "      <td>00:00</td>\n",
       "    </tr>\n",
       "    <tr>\n",
       "      <td>9</td>\n",
       "      <td>0.017371</td>\n",
       "      <td>0.037942</td>\n",
       "      <td>0.968106</td>\n",
       "      <td>00:00</td>\n",
       "    </tr>\n",
       "  </tbody>\n",
       "</table>"
      ],
      "text/plain": [
       "<IPython.core.display.HTML object>"
      ]
     },
     "metadata": {},
     "output_type": "display_data"
    }
   ],
   "source": [
    "# Now we can call fit on the learner\n",
    "learn.fit(10, lr=lr)"
   ]
  },
  {
   "cell_type": "code",
   "execution_count": 235,
   "metadata": {},
   "outputs": [],
   "source": [
    "# Basic neural network definition\n",
    "\n",
    "def simple_net(xb): \n",
    "    res = xb@w1 + b1\n",
    "    res = res.max(tensor(0.0))\n",
    "    res = res@w2 + b2\n",
    "    return res\n",
    "\n",
    "# All we have is two linear classifiers and a max function between them"
   ]
  },
  {
   "cell_type": "code",
   "execution_count": 236,
   "metadata": {},
   "outputs": [],
   "source": [
    "# W1 and W2 are weight tensors\n",
    "# b1 and b2 are bias tensors\n",
    "# W1 has 30 output activations, so w2 needs 30 input activations\n",
    "# First layer can construct 30 different features\n",
    "\n",
    "w1 = init_params((28*28,30))\n",
    "b1 = init_params(30)\n",
    "w2 = init_params(30,1)\n",
    "b2 = init_params(1)"
   ]
  },
  {
   "cell_type": "code",
   "execution_count": 238,
   "metadata": {},
   "outputs": [
    {
     "data": {
      "image/png": "[encoded data removed]",
      "text/plain": [
       "<Figure size 600x400 with 1 Axes>"
      ]
     },
     "metadata": {},
     "output_type": "display_data"
    }
   ],
   "source": [
    "# res.max(tensor(0.0)) is a rectified linear unit (ReLU)\n",
    "plot_function(F.relu)"
   ]
  },
  {
   "cell_type": "code",
   "execution_count": null,
   "metadata": {},
   "outputs": [],
   "source": [
    "# Using more linear layer, the model can do more computation and have more complext functions\n",
    "# We can't put linear layers directly after each other - we could replace multiplying multiple things and adding multiple times with multiplying different things and adding them once\n",
    "# Simply, a series of any number of linear layers in a row can be replaces with a single linear layer with a different set of params\n",
    "# Putting an activation layer between linear layers decouples the layers, and they can each do their own work"
   ]
  },
  {
   "cell_type": "code",
   "execution_count": 239,
   "metadata": {},
   "outputs": [],
   "source": [
    "# Replace code with something simpler using PyTorch\n",
    "simple_net = nn.Sequential(\n",
    "    nn.Linear(28*28,30),\n",
    "    nn.ReLU(),\n",
    "    nn.Linear(30,1)\n",
    ")\n",
    "\n",
    "# nn.Sequential creates a module that will call each of the listed layers/functions in turn\n",
    "# nn.ReLU is a PyTorch module that does the exact same thing as F.relu, but since Sequential made a PyTorch class, we need to use the PyTorch ReLU\n"
   ]
  },
  {
   "cell_type": "code",
   "execution_count": 240,
   "metadata": {},
   "outputs": [],
   "source": [
    "learn = Learner(dls, simple_net, opt_func=SGD,loss_func=mnist_loss, metrics=batch_accuracy)"
   ]
  },
  {
   "cell_type": "code",
   "execution_count": 241,
   "metadata": {},
   "outputs": [
    {
     "data": {
      "text/html": [
       "\n",
       "<style>\n",
       "    /* Turns off some styling */\n",
       "    progress {\n",
       "        /* gets rid of default border in Firefox and Opera. */\n",
       "        border: none;\n",
       "        /* Needs to be in here for Safari polyfill so background images work as expected. */\n",
       "        background-size: auto;\n",
       "    }\n",
       "    progress:not([value]), progress:not([value])::-webkit-progress-bar {\n",
       "        background: repeating-linear-gradient(45deg, #7e7e7e, #7e7e7e 10px, #5c5c5c 10px, #5c5c5c 20px);\n",
       "    }\n",
       "    .progress-bar-interrupted, .progress-bar-interrupted::-webkit-progress-bar {\n",
       "        background: #F44336;\n",
       "    }\n",
       "</style>\n"
      ],
      "text/plain": [
       "<IPython.core.display.HTML object>"
      ]
     },
     "metadata": {},
     "output_type": "display_data"
    },
    {
     "data": {
      "text/html": [
       "<table border=\"1\" class=\"dataframe\">\n",
       "  <thead>\n",
       "    <tr style=\"text-align: left;\">\n",
       "      <th>epoch</th>\n",
       "      <th>train_loss</th>\n",
       "      <th>valid_loss</th>\n",
       "      <th>batch_accuracy</th>\n",
       "      <th>time</th>\n",
       "    </tr>\n",
       "  </thead>\n",
       "  <tbody>\n",
       "    <tr>\n",
       "      <td>0</td>\n",
       "      <td>0.347399</td>\n",
       "      <td>0.378569</td>\n",
       "      <td>0.548086</td>\n",
       "      <td>00:00</td>\n",
       "    </tr>\n",
       "    <tr>\n",
       "      <td>1</td>\n",
       "      <td>0.159284</td>\n",
       "      <td>0.239369</td>\n",
       "      <td>0.795878</td>\n",
       "      <td>00:00</td>\n",
       "    </tr>\n",
       "    <tr>\n",
       "      <td>2</td>\n",
       "      <td>0.086505</td>\n",
       "      <td>0.118394</td>\n",
       "      <td>0.914622</td>\n",
       "      <td>00:00</td>\n",
       "    </tr>\n",
       "    <tr>\n",
       "      <td>3</td>\n",
       "      <td>0.055383</td>\n",
       "      <td>0.079032</td>\n",
       "      <td>0.940137</td>\n",
       "      <td>00:00</td>\n",
       "    </tr>\n",
       "    <tr>\n",
       "      <td>4</td>\n",
       "      <td>0.041088</td>\n",
       "      <td>0.061494</td>\n",
       "      <td>0.958292</td>\n",
       "      <td>00:00</td>\n",
       "    </tr>\n",
       "    <tr>\n",
       "      <td>5</td>\n",
       "      <td>0.033924</td>\n",
       "      <td>0.051735</td>\n",
       "      <td>0.963690</td>\n",
       "      <td>00:00</td>\n",
       "    </tr>\n",
       "    <tr>\n",
       "      <td>6</td>\n",
       "      <td>0.029910</td>\n",
       "      <td>0.045594</td>\n",
       "      <td>0.965653</td>\n",
       "      <td>00:00</td>\n",
       "    </tr>\n",
       "    <tr>\n",
       "      <td>7</td>\n",
       "      <td>0.027367</td>\n",
       "      <td>0.041399</td>\n",
       "      <td>0.967125</td>\n",
       "      <td>00:00</td>\n",
       "    </tr>\n",
       "    <tr>\n",
       "      <td>8</td>\n",
       "      <td>0.025569</td>\n",
       "      <td>0.038352</td>\n",
       "      <td>0.968106</td>\n",
       "      <td>00:00</td>\n",
       "    </tr>\n",
       "    <tr>\n",
       "      <td>9</td>\n",
       "      <td>0.024194</td>\n",
       "      <td>0.036030</td>\n",
       "      <td>0.968597</td>\n",
       "      <td>00:00</td>\n",
       "    </tr>\n",
       "    <tr>\n",
       "      <td>10</td>\n",
       "      <td>0.023087</td>\n",
       "      <td>0.034194</td>\n",
       "      <td>0.970559</td>\n",
       "      <td>00:00</td>\n",
       "    </tr>\n",
       "    <tr>\n",
       "      <td>11</td>\n",
       "      <td>0.022167</td>\n",
       "      <td>0.032695</td>\n",
       "      <td>0.973503</td>\n",
       "      <td>00:00</td>\n",
       "    </tr>\n",
       "    <tr>\n",
       "      <td>12</td>\n",
       "      <td>0.021384</td>\n",
       "      <td>0.031437</td>\n",
       "      <td>0.974485</td>\n",
       "      <td>00:00</td>\n",
       "    </tr>\n",
       "    <tr>\n",
       "      <td>13</td>\n",
       "      <td>0.020707</td>\n",
       "      <td>0.030357</td>\n",
       "      <td>0.975466</td>\n",
       "      <td>00:00</td>\n",
       "    </tr>\n",
       "    <tr>\n",
       "      <td>14</td>\n",
       "      <td>0.020114</td>\n",
       "      <td>0.029417</td>\n",
       "      <td>0.975466</td>\n",
       "      <td>00:00</td>\n",
       "    </tr>\n",
       "    <tr>\n",
       "      <td>15</td>\n",
       "      <td>0.019589</td>\n",
       "      <td>0.028584</td>\n",
       "      <td>0.975466</td>\n",
       "      <td>00:00</td>\n",
       "    </tr>\n",
       "    <tr>\n",
       "      <td>16</td>\n",
       "      <td>0.019119</td>\n",
       "      <td>0.027840</td>\n",
       "      <td>0.976448</td>\n",
       "      <td>00:00</td>\n",
       "    </tr>\n",
       "    <tr>\n",
       "      <td>17</td>\n",
       "      <td>0.018695</td>\n",
       "      <td>0.027170</td>\n",
       "      <td>0.976938</td>\n",
       "      <td>00:00</td>\n",
       "    </tr>\n",
       "    <tr>\n",
       "      <td>18</td>\n",
       "      <td>0.018310</td>\n",
       "      <td>0.026562</td>\n",
       "      <td>0.977920</td>\n",
       "      <td>00:00</td>\n",
       "    </tr>\n",
       "    <tr>\n",
       "      <td>19</td>\n",
       "      <td>0.017958</td>\n",
       "      <td>0.026009</td>\n",
       "      <td>0.978410</td>\n",
       "      <td>00:00</td>\n",
       "    </tr>\n",
       "    <tr>\n",
       "      <td>20</td>\n",
       "      <td>0.017634</td>\n",
       "      <td>0.025504</td>\n",
       "      <td>0.978901</td>\n",
       "      <td>00:00</td>\n",
       "    </tr>\n",
       "    <tr>\n",
       "      <td>21</td>\n",
       "      <td>0.017334</td>\n",
       "      <td>0.025041</td>\n",
       "      <td>0.978901</td>\n",
       "      <td>00:00</td>\n",
       "    </tr>\n",
       "    <tr>\n",
       "      <td>22</td>\n",
       "      <td>0.017055</td>\n",
       "      <td>0.024615</td>\n",
       "      <td>0.979882</td>\n",
       "      <td>00:00</td>\n",
       "    </tr>\n",
       "    <tr>\n",
       "      <td>23</td>\n",
       "      <td>0.016795</td>\n",
       "      <td>0.024223</td>\n",
       "      <td>0.980864</td>\n",
       "      <td>00:00</td>\n",
       "    </tr>\n",
       "    <tr>\n",
       "      <td>24</td>\n",
       "      <td>0.016551</td>\n",
       "      <td>0.023860</td>\n",
       "      <td>0.980864</td>\n",
       "      <td>00:00</td>\n",
       "    </tr>\n",
       "    <tr>\n",
       "      <td>25</td>\n",
       "      <td>0.016322</td>\n",
       "      <td>0.023525</td>\n",
       "      <td>0.980864</td>\n",
       "      <td>00:00</td>\n",
       "    </tr>\n",
       "    <tr>\n",
       "      <td>26</td>\n",
       "      <td>0.016105</td>\n",
       "      <td>0.023213</td>\n",
       "      <td>0.980864</td>\n",
       "      <td>00:00</td>\n",
       "    </tr>\n",
       "    <tr>\n",
       "      <td>27</td>\n",
       "      <td>0.015901</td>\n",
       "      <td>0.022924</td>\n",
       "      <td>0.981354</td>\n",
       "      <td>00:00</td>\n",
       "    </tr>\n",
       "    <tr>\n",
       "      <td>28</td>\n",
       "      <td>0.015707</td>\n",
       "      <td>0.022655</td>\n",
       "      <td>0.981354</td>\n",
       "      <td>00:00</td>\n",
       "    </tr>\n",
       "    <tr>\n",
       "      <td>29</td>\n",
       "      <td>0.015523</td>\n",
       "      <td>0.022403</td>\n",
       "      <td>0.982336</td>\n",
       "      <td>00:00</td>\n",
       "    </tr>\n",
       "    <tr>\n",
       "      <td>30</td>\n",
       "      <td>0.015349</td>\n",
       "      <td>0.022169</td>\n",
       "      <td>0.982826</td>\n",
       "      <td>00:00</td>\n",
       "    </tr>\n",
       "    <tr>\n",
       "      <td>31</td>\n",
       "      <td>0.015183</td>\n",
       "      <td>0.021949</td>\n",
       "      <td>0.982336</td>\n",
       "      <td>00:00</td>\n",
       "    </tr>\n",
       "    <tr>\n",
       "      <td>32</td>\n",
       "      <td>0.015024</td>\n",
       "      <td>0.021743</td>\n",
       "      <td>0.982336</td>\n",
       "      <td>00:00</td>\n",
       "    </tr>\n",
       "    <tr>\n",
       "      <td>33</td>\n",
       "      <td>0.014872</td>\n",
       "      <td>0.021549</td>\n",
       "      <td>0.982336</td>\n",
       "      <td>00:00</td>\n",
       "    </tr>\n",
       "    <tr>\n",
       "      <td>34</td>\n",
       "      <td>0.014727</td>\n",
       "      <td>0.021366</td>\n",
       "      <td>0.982826</td>\n",
       "      <td>00:00</td>\n",
       "    </tr>\n",
       "    <tr>\n",
       "      <td>35</td>\n",
       "      <td>0.014588</td>\n",
       "      <td>0.021194</td>\n",
       "      <td>0.982826</td>\n",
       "      <td>00:00</td>\n",
       "    </tr>\n",
       "    <tr>\n",
       "      <td>36</td>\n",
       "      <td>0.014454</td>\n",
       "      <td>0.021031</td>\n",
       "      <td>0.982826</td>\n",
       "      <td>00:00</td>\n",
       "    </tr>\n",
       "    <tr>\n",
       "      <td>37</td>\n",
       "      <td>0.014325</td>\n",
       "      <td>0.020877</td>\n",
       "      <td>0.982826</td>\n",
       "      <td>00:00</td>\n",
       "    </tr>\n",
       "    <tr>\n",
       "      <td>38</td>\n",
       "      <td>0.014201</td>\n",
       "      <td>0.020731</td>\n",
       "      <td>0.982826</td>\n",
       "      <td>00:00</td>\n",
       "    </tr>\n",
       "    <tr>\n",
       "      <td>39</td>\n",
       "      <td>0.014081</td>\n",
       "      <td>0.020592</td>\n",
       "      <td>0.982826</td>\n",
       "      <td>00:00</td>\n",
       "    </tr>\n",
       "  </tbody>\n",
       "</table>"
      ],
      "text/plain": [
       "<IPython.core.display.HTML object>"
      ]
     },
     "metadata": {},
     "output_type": "display_data"
    }
   ],
   "source": [
    "learn.fit(40,0.1)"
   ]
  },
  {
   "cell_type": "code",
   "execution_count": 242,
   "metadata": {},
   "outputs": [
    {
     "data": {
      "text/plain": [
       "[<matplotlib.lines.Line2D at 0x7f6b88a42260>]"
      ]
     },
     "execution_count": 242,
     "metadata": {},
     "output_type": "execute_result"
    },
    {
     "data": {
      "image/png": "[encoded data removed]",
      "text/plain": [
       "<Figure size 640x480 with 1 Axes>"
      ]
     },
     "metadata": {},
     "output_type": "display_data"
    }
   ],
   "source": [
    "# Since nn.Sequential is a modeul, we can get its parameters\n",
    "# Training process is recorded in learn.recorder\n",
    "# Plot training process\n",
    "plt.plot(L(learn.recorder.values).itemgot(2))"
   ]
  },
  {
   "cell_type": "code",
   "execution_count": 243,
   "metadata": {},
   "outputs": [
    {
     "data": {
      "text/plain": [
       "0.982826292514801"
      ]
     },
     "execution_count": 243,
     "metadata": {},
     "output_type": "execute_result"
    }
   ],
   "source": [
    "# View final accuracy\n",
    "learn.recorder.values[-1][2]"
   ]
  }
 ],
 "metadata": {
  "kernelspec": {
   "display_name": "Python 3",
   "language": "python",
   "name": "python3"
  },
  "language_info": {
   "codemirror_mode": {
    "name": "ipython",
    "version": 3
   },
   "file_extension": ".py",
   "mimetype": "text/x-python",
   "name": "python",
   "nbconvert_exporter": "python",
   "pygments_lexer": "ipython3",
   "version": "3.10.12"
  }
 },
 "nbformat": 4,
 "nbformat_minor": 2
}
